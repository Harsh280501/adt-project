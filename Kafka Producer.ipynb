{
 "cells": [
  {
   "cell_type": "code",
   "execution_count": 1,
   "id": "d5a31e90",
   "metadata": {},
   "outputs": [],
   "source": [
    "import pandas as pd\n",
    "from kafka import KafkaConsumer, KafkaProducer\n",
    "from time import sleep\n",
    "from json import dumps\n",
    "import json\n",
    "import pyodbc\n",
    "from decimal import Decimal\n",
    "from datetime import date, datetime"
   ]
  },
  {
   "cell_type": "code",
   "execution_count": 2,
   "id": "503b15a7",
   "metadata": {},
   "outputs": [],
   "source": [
    "def extract_from_sql_server():\n",
    "    \n",
    "    server = 'LAPTOP-OHGJHODB\\\\SQLEXPRESS'\n",
    "    database = 'EmployeeDB'\n",
    "    \n",
    "    connection = pyodbc.connect('DRIVER={ODBC Driver 17 for SQL Server};'\n",
    "                                'SERVER=' + server + ';'\n",
    "                                'DATABASE=' + database + ';'\n",
    "                                'Trusted_Connection=yes;')\n",
    "    \n",
    "    cursor = connection.cursor()\n",
    "    cursor.execute(\"SELECT * FROM employees\")\n",
    "    rows = cursor.fetchall()\n",
    "    \n",
    "    columns = [column[0] for column in cursor.description]\n",
    "    data = [dict(zip(columns, row)) for row in rows]\n",
    "    \n",
    "    cursor.close()\n",
    "    connection.close()\n",
    "    \n",
    "    return data"
   ]
  },
  {
   "cell_type": "code",
   "execution_count": null,
   "id": "e26d6bc0",
   "metadata": {},
   "outputs": [],
   "source": []
  },
  {
   "cell_type": "code",
   "execution_count": null,
   "id": "b9aed1c9",
   "metadata": {},
   "outputs": [],
   "source": []
  },
  {
   "cell_type": "code",
   "execution_count": null,
   "id": "211ff50f",
   "metadata": {},
   "outputs": [],
   "source": []
  },
  {
   "cell_type": "code",
   "execution_count": 3,
   "id": "e9ff004c",
   "metadata": {},
   "outputs": [
    {
     "data": {
      "text/plain": [
       "\"def get_last_polled_time():\\n    try:\\n        with open('last_polled_time.txt', 'r') as file:\\n            return file.read().strip()\\n    except FileNotFoundError:\\n        return '1900-01-01 00:00:00'\\n\\ndef update_last_polled_time(current_time):\\n    with open('last_polled_time.txt', 'w') as file:\\n        file.write(current_time)\\n\""
      ]
     },
     "execution_count": 3,
     "metadata": {},
     "output_type": "execute_result"
    }
   ],
   "source": [
    "class CustomEncoder(json.JSONEncoder):\n",
    "    def default(self, obj):\n",
    "        if isinstance(obj, Decimal):\n",
    "            return float(obj)\n",
    "        if isinstance(obj, (date, datetime)):\n",
    "            return obj.isoformat()\n",
    "        return super(CustomEncoder, self).default(obj)\n",
    "\n",
    "\"\"\"def get_last_polled_time():\n",
    "    try:\n",
    "        with open('last_polled_time.txt', 'r') as file:\n",
    "            return file.read().strip()\n",
    "    except FileNotFoundError:\n",
    "        return '1900-01-01 00:00:00'\n",
    "\n",
    "def update_last_polled_time(current_time):\n",
    "    with open('last_polled_time.txt', 'w') as file:\n",
    "        file.write(current_time)\n",
    "\"\"\""
   ]
  },
  {
   "cell_type": "code",
   "execution_count": null,
   "id": "1ce73394",
   "metadata": {},
   "outputs": [],
   "source": []
  },
  {
   "cell_type": "code",
   "execution_count": 4,
   "id": "380d32be",
   "metadata": {},
   "outputs": [],
   "source": [
    "def produce_data_to_kafka(data):\n",
    "    producer = KafkaProducer(\n",
    "        bootstrap_servers=['18.191.110.113:9092'],\n",
    "        value_serializer=lambda x: json.dumps(x,cls=CustomEncoder).encode('utf-8'))\n",
    "    \n",
    "    \n",
    "    for record in data:\n",
    "        producer.send('demo_testing2', value=record)\n",
    "    \n",
    "    producer.flush()"
   ]
  },
  {
   "cell_type": "code",
   "execution_count": null,
   "id": "f839a47d",
   "metadata": {},
   "outputs": [],
   "source": []
  },
  {
   "cell_type": "code",
   "execution_count": 28,
   "id": "97949d03",
   "metadata": {},
   "outputs": [],
   "source": [
    "data = extract_from_sql_server()\n",
    "produce_data_to_kafka(data)"
   ]
  },
  {
   "cell_type": "code",
   "execution_count": 6,
   "id": "7dae1ecf",
   "metadata": {},
   "outputs": [],
   "source": [
    "df = pd.DataFrame(data)"
   ]
  },
  {
   "cell_type": "code",
   "execution_count": 7,
   "id": "39189013",
   "metadata": {},
   "outputs": [
    {
     "data": {
      "text/html": [
       "<div>\n",
       "<style scoped>\n",
       "    .dataframe tbody tr th:only-of-type {\n",
       "        vertical-align: middle;\n",
       "    }\n",
       "\n",
       "    .dataframe tbody tr th {\n",
       "        vertical-align: top;\n",
       "    }\n",
       "\n",
       "    .dataframe thead th {\n",
       "        text-align: right;\n",
       "    }\n",
       "</style>\n",
       "<table border=\"1\" class=\"dataframe\">\n",
       "  <thead>\n",
       "    <tr style=\"text-align: right;\">\n",
       "      <th></th>\n",
       "      <th>id</th>\n",
       "      <th>name</th>\n",
       "      <th>position</th>\n",
       "      <th>salary</th>\n",
       "      <th>hire_date</th>\n",
       "      <th>department</th>\n",
       "      <th>email</th>\n",
       "      <th>phone_number</th>\n",
       "      <th>address</th>\n",
       "    </tr>\n",
       "  </thead>\n",
       "  <tbody>\n",
       "    <tr>\n",
       "      <th>0</th>\n",
       "      <td>1</td>\n",
       "      <td>Name1</td>\n",
       "      <td>UX Designer</td>\n",
       "      <td>59027.04</td>\n",
       "      <td>2021-08-16</td>\n",
       "      <td>HR</td>\n",
       "      <td>Name1@example.com</td>\n",
       "      <td>555-123-8651</td>\n",
       "      <td>8651 Main St, City51, State1</td>\n",
       "    </tr>\n",
       "    <tr>\n",
       "      <th>1</th>\n",
       "      <td>2</td>\n",
       "      <td>Name2</td>\n",
       "      <td>Software Engineer</td>\n",
       "      <td>50915.06</td>\n",
       "      <td>2024-04-01</td>\n",
       "      <td>IT</td>\n",
       "      <td>Name2@example.com</td>\n",
       "      <td>555-123-0301</td>\n",
       "      <td>301 Elm St, City1, State1</td>\n",
       "    </tr>\n",
       "    <tr>\n",
       "      <th>2</th>\n",
       "      <td>3</td>\n",
       "      <td>Name3</td>\n",
       "      <td>UX Designer</td>\n",
       "      <td>88427.92</td>\n",
       "      <td>2020-12-30</td>\n",
       "      <td>Finance</td>\n",
       "      <td>Name3@example.com</td>\n",
       "      <td>555-123-0208</td>\n",
       "      <td>208 Elm St, City8, State8</td>\n",
       "    </tr>\n",
       "    <tr>\n",
       "      <th>3</th>\n",
       "      <td>4</td>\n",
       "      <td>Name4</td>\n",
       "      <td>Project Manager</td>\n",
       "      <td>90161.44</td>\n",
       "      <td>2018-04-30</td>\n",
       "      <td>Finance</td>\n",
       "      <td>Name4@example.com</td>\n",
       "      <td>555-123-5946</td>\n",
       "      <td>5946 Main St, City46, State46</td>\n",
       "    </tr>\n",
       "    <tr>\n",
       "      <th>4</th>\n",
       "      <td>5</td>\n",
       "      <td>Name5</td>\n",
       "      <td>Project Manager</td>\n",
       "      <td>97306.50</td>\n",
       "      <td>2017-01-12</td>\n",
       "      <td>Finance</td>\n",
       "      <td>Name5@example.com</td>\n",
       "      <td>555-123-3843</td>\n",
       "      <td>3843 Elm St, City43, State43</td>\n",
       "    </tr>\n",
       "  </tbody>\n",
       "</table>\n",
       "</div>"
      ],
      "text/plain": [
       "   id   name           position    salary   hire_date department   \n",
       "0   1  Name1        UX Designer  59027.04  2021-08-16         HR  \\\n",
       "1   2  Name2  Software Engineer  50915.06  2024-04-01         IT   \n",
       "2   3  Name3        UX Designer  88427.92  2020-12-30    Finance   \n",
       "3   4  Name4    Project Manager  90161.44  2018-04-30    Finance   \n",
       "4   5  Name5    Project Manager  97306.50  2017-01-12    Finance   \n",
       "\n",
       "               email  phone_number                        address  \n",
       "0  Name1@example.com  555-123-8651   8651 Main St, City51, State1  \n",
       "1  Name2@example.com  555-123-0301      301 Elm St, City1, State1  \n",
       "2  Name3@example.com  555-123-0208      208 Elm St, City8, State8  \n",
       "3  Name4@example.com  555-123-5946  5946 Main St, City46, State46  \n",
       "4  Name5@example.com  555-123-3843   3843 Elm St, City43, State43  "
      ]
     },
     "execution_count": 7,
     "metadata": {},
     "output_type": "execute_result"
    }
   ],
   "source": [
    "df.head()"
   ]
  },
  {
   "cell_type": "code",
   "execution_count": 8,
   "id": "eb7aafb2",
   "metadata": {},
   "outputs": [
    {
     "data": {
      "text/plain": [
       "<bound method DataFrame.count of    id    name           position    salary   hire_date department   \n",
       "0   1   Name1        UX Designer  59027.04  2021-08-16         HR  \\\n",
       "1   2   Name2  Software Engineer  50915.06  2024-04-01         IT   \n",
       "2   3   Name3        UX Designer  88427.92  2020-12-30    Finance   \n",
       "3   4   Name4    Project Manager  90161.44  2018-04-30    Finance   \n",
       "4   5   Name5    Project Manager  97306.50  2017-01-12    Finance   \n",
       "5   6   Name6    Project Manager  55310.52  2019-03-14  Marketing   \n",
       "6   7   Name7     Data Scientist  77702.33  2020-11-18  Marketing   \n",
       "7   8   Name8  Software Engineer  67685.71  2016-10-11         HR   \n",
       "8   9   Name9     Data Scientist  93440.71  2022-02-08    Finance   \n",
       "9  10  Name10  Software Engineer  90446.50  2019-02-11         HR   \n",
       "\n",
       "                email  phone_number                        address  \n",
       "0   Name1@example.com  555-123-8651   8651 Main St, City51, State1  \n",
       "1   Name2@example.com  555-123-0301      301 Elm St, City1, State1  \n",
       "2   Name3@example.com  555-123-0208      208 Elm St, City8, State8  \n",
       "3   Name4@example.com  555-123-5946  5946 Main St, City46, State46  \n",
       "4   Name5@example.com  555-123-3843   3843 Elm St, City43, State43  \n",
       "5   Name6@example.com  555-123-7232   7232 Elm St, City32, State32  \n",
       "6   Name7@example.com  555-123-3286   3286 Elm St, City86, State36  \n",
       "7   Name8@example.com  555-123-6532   6532 Elm St, City32, State32  \n",
       "8   Name9@example.com  555-123-5816   5816 Elm St, City16, State16  \n",
       "9  Name10@example.com  555-123-5933   5933 Elm St, City33, State33  >"
      ]
     },
     "execution_count": 8,
     "metadata": {},
     "output_type": "execute_result"
    }
   ],
   "source": [
    "df.count\n"
   ]
  },
  {
   "cell_type": "code",
   "execution_count": null,
   "id": "60b117a8",
   "metadata": {},
   "outputs": [],
   "source": []
  },
  {
   "cell_type": "code",
   "execution_count": null,
   "id": "1b8e42ab",
   "metadata": {},
   "outputs": [],
   "source": []
  },
  {
   "cell_type": "code",
   "execution_count": null,
   "id": "4e3ec42d",
   "metadata": {},
   "outputs": [],
   "source": []
  },
  {
   "cell_type": "code",
   "execution_count": null,
   "id": "447cc9f7",
   "metadata": {},
   "outputs": [],
   "source": []
  },
  {
   "cell_type": "code",
   "execution_count": null,
   "id": "490a6ca0",
   "metadata": {},
   "outputs": [],
   "source": []
  },
  {
   "cell_type": "code",
   "execution_count": null,
   "id": "bdacc154",
   "metadata": {},
   "outputs": [],
   "source": []
  },
  {
   "cell_type": "code",
   "execution_count": null,
   "id": "80b4bb01",
   "metadata": {},
   "outputs": [],
   "source": []
  },
  {
   "cell_type": "code",
   "execution_count": null,
   "id": "2a232968",
   "metadata": {},
   "outputs": [],
   "source": [
    "\n",
    "\n"
   ]
  },
  {
   "cell_type": "code",
   "execution_count": null,
   "id": "4fefb4a1",
   "metadata": {},
   "outputs": [],
   "source": []
  },
  {
   "cell_type": "code",
   "execution_count": null,
   "id": "e1cb91e8",
   "metadata": {},
   "outputs": [],
   "source": []
  },
  {
   "cell_type": "code",
   "execution_count": null,
   "id": "0ecf5fac",
   "metadata": {},
   "outputs": [],
   "source": []
  },
  {
   "cell_type": "code",
   "execution_count": null,
   "id": "51fb303e",
   "metadata": {},
   "outputs": [],
   "source": []
  },
  {
   "cell_type": "code",
   "execution_count": null,
   "id": "0f2318d1",
   "metadata": {},
   "outputs": [],
   "source": []
  },
  {
   "cell_type": "code",
   "execution_count": null,
   "id": "1cefc272",
   "metadata": {},
   "outputs": [],
   "source": []
  },
  {
   "cell_type": "code",
   "execution_count": null,
   "id": "6445d71d",
   "metadata": {},
   "outputs": [],
   "source": []
  },
  {
   "cell_type": "code",
   "execution_count": null,
   "id": "cf075c1a",
   "metadata": {},
   "outputs": [],
   "source": []
  },
  {
   "cell_type": "code",
   "execution_count": null,
   "id": "db8842ba",
   "metadata": {},
   "outputs": [],
   "source": []
  },
  {
   "cell_type": "code",
   "execution_count": null,
   "id": "bd0ef37e",
   "metadata": {},
   "outputs": [],
   "source": []
  },
  {
   "cell_type": "code",
   "execution_count": null,
   "id": "9b83eeae",
   "metadata": {},
   "outputs": [],
   "source": []
  }
 ],
 "metadata": {
  "kernelspec": {
   "display_name": "Python 3 (ipykernel)",
   "language": "python",
   "name": "python3"
  },
  "language_info": {
   "codemirror_mode": {
    "name": "ipython",
    "version": 3
   },
   "file_extension": ".py",
   "mimetype": "text/x-python",
   "name": "python",
   "nbconvert_exporter": "python",
   "pygments_lexer": "ipython3",
   "version": "3.9.4"
  }
 },
 "nbformat": 4,
 "nbformat_minor": 5
}
