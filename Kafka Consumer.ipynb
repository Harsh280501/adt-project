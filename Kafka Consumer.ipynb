{
 "cells": [
  {
   "cell_type": "code",
   "execution_count": 1,
   "id": "4ec5f52e",
   "metadata": {},
   "outputs": [],
   "source": [
    "import pandas as pd\n",
    "from kafka import KafkaConsumer, KafkaProducer\n",
    "from time import sleep\n",
    "from json import dumps,loads\n",
    "import json\n",
    "from json import JSONDecodeError"
   ]
  },
  {
   "cell_type": "code",
   "execution_count": null,
   "id": "97a46705",
   "metadata": {},
   "outputs": [],
   "source": []
  },
  {
   "cell_type": "code",
   "execution_count": 2,
   "id": "faf88fb5",
   "metadata": {},
   "outputs": [],
   "source": [
    "consumer = KafkaConsumer(\n",
    "        'demo_testing2',\n",
    "        bootstrap_servers=['18.191.110.113:9092'],\n",
    "        value_deserializer=lambda x: json.loads(x.decode('utf-8'))\n",
    ")"
   ]
  },
  {
   "cell_type": "code",
   "execution_count": null,
   "id": "98618025",
   "metadata": {},
   "outputs": [],
   "source": []
  },
  {
   "cell_type": "code",
   "execution_count": 7,
   "id": "298667c0",
   "metadata": {},
   "outputs": [],
   "source": [
    "#consumer.poll(timeout_ms=1000, max_records=100)"
   ]
  },
  {
   "cell_type": "code",
   "execution_count": null,
   "id": "53033afa",
   "metadata": {},
   "outputs": [],
   "source": []
  },
  {
   "cell_type": "code",
   "execution_count": null,
   "id": "d29b8ed0",
   "metadata": {},
   "outputs": [],
   "source": []
  },
  {
   "cell_type": "code",
   "execution_count": 3,
   "id": "8b4eee6e",
   "metadata": {},
   "outputs": [
    {
     "name": "stdout",
     "output_type": "stream",
     "text": [
      "demo_testing2 key=None value={'id': 1, 'name': 'Name1', 'position': 'UX Designer', 'salary': 59027.04, 'hire_date': '2021-08-16', 'department': 'HR', 'email': 'Name1@example.com', 'phone_number': '555-123-8651', 'address': '8651 Main St, City51, State1'}\n",
      "demo_testing2 key=None value={'id': 2, 'name': 'Name2', 'position': 'Software Engineer', 'salary': 50915.06, 'hire_date': '2024-04-01', 'department': 'IT', 'email': 'Name2@example.com', 'phone_number': '555-123-0301', 'address': '301 Elm St, City1, State1'}\n",
      "demo_testing2 key=None value={'id': 3, 'name': 'Name3', 'position': 'UX Designer', 'salary': 88427.92, 'hire_date': '2020-12-30', 'department': 'Finance', 'email': 'Name3@example.com', 'phone_number': '555-123-0208', 'address': '208 Elm St, City8, State8'}\n",
      "demo_testing2 key=None value={'id': 4, 'name': 'Name4', 'position': 'Project Manager', 'salary': 90161.44, 'hire_date': '2018-04-30', 'department': 'Finance', 'email': 'Name4@example.com', 'phone_number': '555-123-5946', 'address': '5946 Main St, City46, State46'}\n",
      "demo_testing2 key=None value={'id': 5, 'name': 'Name5', 'position': 'Project Manager', 'salary': 97306.5, 'hire_date': '2017-01-12', 'department': 'Finance', 'email': 'Name5@example.com', 'phone_number': '555-123-3843', 'address': '3843 Elm St, City43, State43'}\n",
      "demo_testing2 key=None value={'id': 6, 'name': 'Name6', 'position': 'Project Manager', 'salary': 55310.52, 'hire_date': '2019-03-14', 'department': 'Marketing', 'email': 'Name6@example.com', 'phone_number': '555-123-7232', 'address': '7232 Elm St, City32, State32'}\n",
      "demo_testing2 key=None value={'id': 7, 'name': 'Name7', 'position': 'Data Scientist', 'salary': 77702.33, 'hire_date': '2020-11-18', 'department': 'Marketing', 'email': 'Name7@example.com', 'phone_number': '555-123-3286', 'address': '3286 Elm St, City86, State36'}\n",
      "demo_testing2 key=None value={'id': 8, 'name': 'Name8', 'position': 'Software Engineer', 'salary': 67685.71, 'hire_date': '2016-10-11', 'department': 'HR', 'email': 'Name8@example.com', 'phone_number': '555-123-6532', 'address': '6532 Elm St, City32, State32'}\n",
      "demo_testing2 key=None value={'id': 9, 'name': 'Name9', 'position': 'Data Scientist', 'salary': 93440.71, 'hire_date': '2022-02-08', 'department': 'Finance', 'email': 'Name9@example.com', 'phone_number': '555-123-5816', 'address': '5816 Elm St, City16, State16'}\n",
      "demo_testing2 key=None value={'id': 10, 'name': 'Name10', 'position': 'Software Engineer', 'salary': 90446.5, 'hire_date': '2019-02-11', 'department': 'HR', 'email': 'Name10@example.com', 'phone_number': '555-123-5933', 'address': '5933 Elm St, City33, State33'}\n",
      "demo_testing2 key=None value={'id': 1, 'name': 'Name1', 'position': 'UX Designer', 'salary': 59027.04, 'hire_date': '2021-08-16', 'department': 'HR', 'email': 'Name1@example.com', 'phone_number': '555-123-8651', 'address': '8651 Main St, City51, State1'}\n",
      "demo_testing2 key=None value={'id': 2, 'name': 'Name2', 'position': 'Software Engineer', 'salary': 50915.06, 'hire_date': '2024-04-01', 'department': 'IT', 'email': 'Name2@example.com', 'phone_number': '555-123-0301', 'address': '301 Elm St, City1, State1'}\n",
      "demo_testing2 key=None value={'id': 3, 'name': 'Name3', 'position': 'UX Designer', 'salary': 88427.92, 'hire_date': '2020-12-30', 'department': 'Finance', 'email': 'Name3@example.com', 'phone_number': '555-123-0208', 'address': '208 Elm St, City8, State8'}\n",
      "demo_testing2 key=None value={'id': 4, 'name': 'Name4', 'position': 'Project Manager', 'salary': 90161.44, 'hire_date': '2018-04-30', 'department': 'Finance', 'email': 'Name4@example.com', 'phone_number': '555-123-5946', 'address': '5946 Main St, City46, State46'}\n",
      "demo_testing2 key=None value={'id': 5, 'name': 'Name5', 'position': 'Project Manager', 'salary': 97306.5, 'hire_date': '2017-01-12', 'department': 'Finance', 'email': 'Name5@example.com', 'phone_number': '555-123-3843', 'address': '3843 Elm St, City43, State43'}\n",
      "demo_testing2 key=None value={'id': 6, 'name': 'Name6', 'position': 'Project Manager', 'salary': 55310.52, 'hire_date': '2019-03-14', 'department': 'Marketing', 'email': 'Name6@example.com', 'phone_number': '555-123-7232', 'address': '7232 Elm St, City32, State32'}\n",
      "demo_testing2 key=None value={'id': 7, 'name': 'Name7', 'position': 'Data Scientist', 'salary': 77702.33, 'hire_date': '2020-11-18', 'department': 'Marketing', 'email': 'Name7@example.com', 'phone_number': '555-123-3286', 'address': '3286 Elm St, City86, State36'}\n",
      "demo_testing2 key=None value={'id': 8, 'name': 'Name8', 'position': 'Software Engineer', 'salary': 67685.71, 'hire_date': '2016-10-11', 'department': 'HR', 'email': 'Name8@example.com', 'phone_number': '555-123-6532', 'address': '6532 Elm St, City32, State32'}\n",
      "demo_testing2 key=None value={'id': 9, 'name': 'Name9', 'position': 'Data Scientist', 'salary': 93440.71, 'hire_date': '2022-02-08', 'department': 'Finance', 'email': 'Name9@example.com', 'phone_number': '555-123-5816', 'address': '5816 Elm St, City16, State16'}\n",
      "demo_testing2 key=None value={'id': 10, 'name': 'Name10', 'position': 'Software Engineer', 'salary': 90446.5, 'hire_date': '2019-02-11', 'department': 'HR', 'email': 'Name10@example.com', 'phone_number': '555-123-5933', 'address': '5933 Elm St, City33, State33'}\n",
      "demo_testing2 key=None value={'id': 1, 'name': 'Name1', 'position': 'UX Designer', 'salary': 59027.04, 'hire_date': '2021-08-16', 'department': 'HR', 'email': 'Name1@example.com', 'phone_number': '555-123-8651', 'address': '8651 Main St, City51, State1'}\n",
      "demo_testing2 key=None value={'id': 2, 'name': 'Name2', 'position': 'Software Engineer', 'salary': 50915.06, 'hire_date': '2024-04-01', 'department': 'IT', 'email': 'Name2@example.com', 'phone_number': '555-123-0301', 'address': '301 Elm St, City1, State1'}\n",
      "demo_testing2 key=None value={'id': 3, 'name': 'Name3', 'position': 'UX Designer', 'salary': 88427.92, 'hire_date': '2020-12-30', 'department': 'Finance', 'email': 'Name3@example.com', 'phone_number': '555-123-0208', 'address': '208 Elm St, City8, State8'}\n",
      "demo_testing2 key=None value={'id': 4, 'name': 'Name4', 'position': 'Project Manager', 'salary': 90161.44, 'hire_date': '2018-04-30', 'department': 'Finance', 'email': 'Name4@example.com', 'phone_number': '555-123-5946', 'address': '5946 Main St, City46, State46'}\n",
      "demo_testing2 key=None value={'id': 5, 'name': 'Name5', 'position': 'Project Manager', 'salary': 97306.5, 'hire_date': '2017-01-12', 'department': 'Finance', 'email': 'Name5@example.com', 'phone_number': '555-123-3843', 'address': '3843 Elm St, City43, State43'}\n",
      "demo_testing2 key=None value={'id': 6, 'name': 'Name6', 'position': 'Project Manager', 'salary': 55310.52, 'hire_date': '2019-03-14', 'department': 'Marketing', 'email': 'Name6@example.com', 'phone_number': '555-123-7232', 'address': '7232 Elm St, City32, State32'}\n",
      "demo_testing2 key=None value={'id': 7, 'name': 'Name7', 'position': 'Data Scientist', 'salary': 77702.33, 'hire_date': '2020-11-18', 'department': 'Marketing', 'email': 'Name7@example.com', 'phone_number': '555-123-3286', 'address': '3286 Elm St, City86, State36'}\n",
      "demo_testing2 key=None value={'id': 8, 'name': 'Name8', 'position': 'Software Engineer', 'salary': 67685.71, 'hire_date': '2016-10-11', 'department': 'HR', 'email': 'Name8@example.com', 'phone_number': '555-123-6532', 'address': '6532 Elm St, City32, State32'}\n",
      "demo_testing2 key=None value={'id': 9, 'name': 'Name9', 'position': 'Data Scientist', 'salary': 93440.71, 'hire_date': '2022-02-08', 'department': 'Finance', 'email': 'Name9@example.com', 'phone_number': '555-123-5816', 'address': '5816 Elm St, City16, State16'}\n",
      "demo_testing2 key=None value={'id': 10, 'name': 'Name10', 'position': 'Software Engineer', 'salary': 90446.5, 'hire_date': '2019-02-11', 'department': 'HR', 'email': 'Name10@example.com', 'phone_number': '555-123-5933', 'address': '5933 Elm St, City33, State33'}\n",
      "demo_testing2 key=None value={'id': 1, 'name': 'Name1', 'position': 'UX Designer', 'salary': 59027.04, 'hire_date': '2021-08-16', 'department': 'HR', 'email': 'Name1@example.com', 'phone_number': '555-123-8651', 'address': '8651 Main St, City51, State1'}\n",
      "demo_testing2 key=None value={'id': 2, 'name': 'Name2', 'position': 'Software Engineer', 'salary': 50915.06, 'hire_date': '2024-04-01', 'department': 'IT', 'email': 'Name2@example.com', 'phone_number': '555-123-0301', 'address': '301 Elm St, City1, State1'}\n",
      "demo_testing2 key=None value={'id': 3, 'name': 'Name3', 'position': 'UX Designer', 'salary': 88427.92, 'hire_date': '2020-12-30', 'department': 'Finance', 'email': 'Name3@example.com', 'phone_number': '555-123-0208', 'address': '208 Elm St, City8, State8'}\n",
      "demo_testing2 key=None value={'id': 4, 'name': 'Name4', 'position': 'Project Manager', 'salary': 90161.44, 'hire_date': '2018-04-30', 'department': 'Finance', 'email': 'Name4@example.com', 'phone_number': '555-123-5946', 'address': '5946 Main St, City46, State46'}\n",
      "demo_testing2 key=None value={'id': 5, 'name': 'Name5', 'position': 'Project Manager', 'salary': 97306.5, 'hire_date': '2017-01-12', 'department': 'Finance', 'email': 'Name5@example.com', 'phone_number': '555-123-3843', 'address': '3843 Elm St, City43, State43'}\n",
      "demo_testing2 key=None value={'id': 6, 'name': 'Name6', 'position': 'Project Manager', 'salary': 55310.52, 'hire_date': '2019-03-14', 'department': 'Marketing', 'email': 'Name6@example.com', 'phone_number': '555-123-7232', 'address': '7232 Elm St, City32, State32'}\n",
      "demo_testing2 key=None value={'id': 7, 'name': 'Name7', 'position': 'Data Scientist', 'salary': 77702.33, 'hire_date': '2020-11-18', 'department': 'Marketing', 'email': 'Name7@example.com', 'phone_number': '555-123-3286', 'address': '3286 Elm St, City86, State36'}\n",
      "demo_testing2 key=None value={'id': 8, 'name': 'Name8', 'position': 'Software Engineer', 'salary': 67685.71, 'hire_date': '2016-10-11', 'department': 'HR', 'email': 'Name8@example.com', 'phone_number': '555-123-6532', 'address': '6532 Elm St, City32, State32'}\n",
      "demo_testing2 key=None value={'id': 9, 'name': 'Name9', 'position': 'Data Scientist', 'salary': 93440.71, 'hire_date': '2022-02-08', 'department': 'Finance', 'email': 'Name9@example.com', 'phone_number': '555-123-5816', 'address': '5816 Elm St, City16, State16'}\n",
      "demo_testing2 key=None value={'id': 10, 'name': 'Name10', 'position': 'Software Engineer', 'salary': 90446.5, 'hire_date': '2019-02-11', 'department': 'HR', 'email': 'Name10@example.com', 'phone_number': '555-123-5933', 'address': '5933 Elm St, City33, State33'}\n"
     ]
    },
    {
     "name": "stdout",
     "output_type": "stream",
     "text": [
      "demo_testing2 key=None value={'id': 1, 'name': 'Name1', 'position': 'UX Designer', 'salary': 59027.04, 'hire_date': '2021-08-16', 'department': 'HR', 'email': 'Name1@example.com', 'phone_number': '555-123-8651', 'address': '8651 Main St, City51, State1'}\n",
      "demo_testing2 key=None value={'id': 2, 'name': 'Name2', 'position': 'Software Engineer', 'salary': 50915.06, 'hire_date': '2024-04-01', 'department': 'IT', 'email': 'Name2@example.com', 'phone_number': '555-123-0301', 'address': '301 Elm St, City1, State1'}\n",
      "demo_testing2 key=None value={'id': 3, 'name': 'Name3', 'position': 'UX Designer', 'salary': 88427.92, 'hire_date': '2020-12-30', 'department': 'Finance', 'email': 'Name3@example.com', 'phone_number': '555-123-0208', 'address': '208 Elm St, City8, State8'}\n",
      "demo_testing2 key=None value={'id': 4, 'name': 'Name4', 'position': 'Project Manager', 'salary': 90161.44, 'hire_date': '2018-04-30', 'department': 'Finance', 'email': 'Name4@example.com', 'phone_number': '555-123-5946', 'address': '5946 Main St, City46, State46'}\n",
      "demo_testing2 key=None value={'id': 5, 'name': 'Name5', 'position': 'Project Manager', 'salary': 97306.5, 'hire_date': '2017-01-12', 'department': 'Finance', 'email': 'Name5@example.com', 'phone_number': '555-123-3843', 'address': '3843 Elm St, City43, State43'}\n",
      "demo_testing2 key=None value={'id': 6, 'name': 'Name6', 'position': 'Project Manager', 'salary': 55310.52, 'hire_date': '2019-03-14', 'department': 'Marketing', 'email': 'Name6@example.com', 'phone_number': '555-123-7232', 'address': '7232 Elm St, City32, State32'}\n",
      "demo_testing2 key=None value={'id': 7, 'name': 'Name7', 'position': 'Data Scientist', 'salary': 77702.33, 'hire_date': '2020-11-18', 'department': 'Marketing', 'email': 'Name7@example.com', 'phone_number': '555-123-3286', 'address': '3286 Elm St, City86, State36'}\n",
      "demo_testing2 key=None value={'id': 8, 'name': 'Name8', 'position': 'Software Engineer', 'salary': 67685.71, 'hire_date': '2016-10-11', 'department': 'HR', 'email': 'Name8@example.com', 'phone_number': '555-123-6532', 'address': '6532 Elm St, City32, State32'}\n",
      "demo_testing2 key=None value={'id': 9, 'name': 'Name9', 'position': 'Data Scientist', 'salary': 93440.71, 'hire_date': '2022-02-08', 'department': 'Finance', 'email': 'Name9@example.com', 'phone_number': '555-123-5816', 'address': '5816 Elm St, City16, State16'}\n",
      "demo_testing2 key=None value={'id': 10, 'name': 'Name10', 'position': 'Software Engineer', 'salary': 90446.5, 'hire_date': '2019-02-11', 'department': 'HR', 'email': 'Name10@example.com', 'phone_number': '555-123-5933', 'address': '5933 Elm St, City33, State33'}\n",
      "demo_testing2 key=None value={'id': 1, 'name': 'Name1', 'position': 'UX Designer', 'salary': 59027.04, 'hire_date': '2021-08-16', 'department': 'HR', 'email': 'Name1@example.com', 'phone_number': '555-123-8651', 'address': '8651 Main St, City51, State1'}\n",
      "demo_testing2 key=None value={'id': 2, 'name': 'Name2', 'position': 'Software Engineer', 'salary': 50915.06, 'hire_date': '2024-04-01', 'department': 'IT', 'email': 'Name2@example.com', 'phone_number': '555-123-0301', 'address': '301 Elm St, City1, State1'}\n",
      "demo_testing2 key=None value={'id': 3, 'name': 'Name3', 'position': 'UX Designer', 'salary': 88427.92, 'hire_date': '2020-12-30', 'department': 'Finance', 'email': 'Name3@example.com', 'phone_number': '555-123-0208', 'address': '208 Elm St, City8, State8'}\n",
      "demo_testing2 key=None value={'id': 4, 'name': 'Name4', 'position': 'Project Manager', 'salary': 90161.44, 'hire_date': '2018-04-30', 'department': 'Finance', 'email': 'Name4@example.com', 'phone_number': '555-123-5946', 'address': '5946 Main St, City46, State46'}\n",
      "demo_testing2 key=None value={'id': 5, 'name': 'Name5', 'position': 'Project Manager', 'salary': 97306.5, 'hire_date': '2017-01-12', 'department': 'Finance', 'email': 'Name5@example.com', 'phone_number': '555-123-3843', 'address': '3843 Elm St, City43, State43'}\n",
      "demo_testing2 key=None value={'id': 6, 'name': 'Name6', 'position': 'Project Manager', 'salary': 55310.52, 'hire_date': '2019-03-14', 'department': 'Marketing', 'email': 'Name6@example.com', 'phone_number': '555-123-7232', 'address': '7232 Elm St, City32, State32'}\n",
      "demo_testing2 key=None value={'id': 7, 'name': 'Name7', 'position': 'Data Scientist', 'salary': 77702.33, 'hire_date': '2020-11-18', 'department': 'Marketing', 'email': 'Name7@example.com', 'phone_number': '555-123-3286', 'address': '3286 Elm St, City86, State36'}\n",
      "demo_testing2 key=None value={'id': 8, 'name': 'Name8', 'position': 'Software Engineer', 'salary': 67685.71, 'hire_date': '2016-10-11', 'department': 'HR', 'email': 'Name8@example.com', 'phone_number': '555-123-6532', 'address': '6532 Elm St, City32, State32'}\n",
      "demo_testing2 key=None value={'id': 9, 'name': 'Name9', 'position': 'Data Scientist', 'salary': 93440.71, 'hire_date': '2022-02-08', 'department': 'Finance', 'email': 'Name9@example.com', 'phone_number': '555-123-5816', 'address': '5816 Elm St, City16, State16'}\n",
      "demo_testing2 key=None value={'id': 10, 'name': 'Name10', 'position': 'Software Engineer', 'salary': 90446.5, 'hire_date': '2019-02-11', 'department': 'HR', 'email': 'Name10@example.com', 'phone_number': '555-123-5933', 'address': '5933 Elm St, City33, State33'}\n",
      "demo_testing2 key=None value={'id': 1, 'name': 'Name1', 'position': 'UX Designer', 'salary': 59027.04, 'hire_date': '2021-08-16', 'department': 'HR', 'email': 'Name1@example.com', 'phone_number': '555-123-8651', 'address': '8651 Main St, City51, State1'}\n",
      "demo_testing2 key=None value={'id': 2, 'name': 'Name2', 'position': 'Software Engineer', 'salary': 50915.06, 'hire_date': '2024-04-01', 'department': 'IT', 'email': 'Name2@example.com', 'phone_number': '555-123-0301', 'address': '301 Elm St, City1, State1'}\n",
      "demo_testing2 key=None value={'id': 3, 'name': 'Name3', 'position': 'UX Designer', 'salary': 88427.92, 'hire_date': '2020-12-30', 'department': 'Finance', 'email': 'Name3@example.com', 'phone_number': '555-123-0208', 'address': '208 Elm St, City8, State8'}\n",
      "demo_testing2 key=None value={'id': 4, 'name': 'Name4', 'position': 'Project Manager', 'salary': 90161.44, 'hire_date': '2018-04-30', 'department': 'Finance', 'email': 'Name4@example.com', 'phone_number': '555-123-5946', 'address': '5946 Main St, City46, State46'}\n",
      "demo_testing2 key=None value={'id': 5, 'name': 'Name5', 'position': 'Project Manager', 'salary': 97306.5, 'hire_date': '2017-01-12', 'department': 'Finance', 'email': 'Name5@example.com', 'phone_number': '555-123-3843', 'address': '3843 Elm St, City43, State43'}\n",
      "demo_testing2 key=None value={'id': 6, 'name': 'Name6', 'position': 'Project Manager', 'salary': 55310.52, 'hire_date': '2019-03-14', 'department': 'Marketing', 'email': 'Name6@example.com', 'phone_number': '555-123-7232', 'address': '7232 Elm St, City32, State32'}\n",
      "demo_testing2 key=None value={'id': 7, 'name': 'Name7', 'position': 'Data Scientist', 'salary': 77702.33, 'hire_date': '2020-11-18', 'department': 'Marketing', 'email': 'Name7@example.com', 'phone_number': '555-123-3286', 'address': '3286 Elm St, City86, State36'}\n",
      "demo_testing2 key=None value={'id': 8, 'name': 'Name8', 'position': 'Software Engineer', 'salary': 67685.71, 'hire_date': '2016-10-11', 'department': 'HR', 'email': 'Name8@example.com', 'phone_number': '555-123-6532', 'address': '6532 Elm St, City32, State32'}\n",
      "demo_testing2 key=None value={'id': 9, 'name': 'Name9', 'position': 'Data Scientist', 'salary': 93440.71, 'hire_date': '2022-02-08', 'department': 'Finance', 'email': 'Name9@example.com', 'phone_number': '555-123-5816', 'address': '5816 Elm St, City16, State16'}\n",
      "demo_testing2 key=None value={'id': 10, 'name': 'Name10', 'position': 'Software Engineer', 'salary': 90446.5, 'hire_date': '2019-02-11', 'department': 'HR', 'email': 'Name10@example.com', 'phone_number': '555-123-5933', 'address': '5933 Elm St, City33, State33'}\n",
      "demo_testing2 key=None value={'id': 1, 'name': 'Name1', 'position': 'UX Designer', 'salary': 59027.04, 'hire_date': '2021-08-16', 'department': 'HR', 'email': 'Name1@example.com', 'phone_number': '555-123-8651', 'address': '8651 Main St, City51, State1'}\n",
      "demo_testing2 key=None value={'id': 2, 'name': 'Name2', 'position': 'Software Engineer', 'salary': 50915.06, 'hire_date': '2024-04-01', 'department': 'IT', 'email': 'Name2@example.com', 'phone_number': '555-123-0301', 'address': '301 Elm St, City1, State1'}\n",
      "demo_testing2 key=None value={'id': 3, 'name': 'Name3', 'position': 'UX Designer', 'salary': 88427.92, 'hire_date': '2020-12-30', 'department': 'Finance', 'email': 'Name3@example.com', 'phone_number': '555-123-0208', 'address': '208 Elm St, City8, State8'}\n",
      "demo_testing2 key=None value={'id': 4, 'name': 'Name4', 'position': 'Project Manager', 'salary': 90161.44, 'hire_date': '2018-04-30', 'department': 'Finance', 'email': 'Name4@example.com', 'phone_number': '555-123-5946', 'address': '5946 Main St, City46, State46'}\n",
      "demo_testing2 key=None value={'id': 5, 'name': 'Name5', 'position': 'Project Manager', 'salary': 97306.5, 'hire_date': '2017-01-12', 'department': 'Finance', 'email': 'Name5@example.com', 'phone_number': '555-123-3843', 'address': '3843 Elm St, City43, State43'}\n",
      "demo_testing2 key=None value={'id': 6, 'name': 'Name6', 'position': 'Project Manager', 'salary': 55310.52, 'hire_date': '2019-03-14', 'department': 'Marketing', 'email': 'Name6@example.com', 'phone_number': '555-123-7232', 'address': '7232 Elm St, City32, State32'}\n",
      "demo_testing2 key=None value={'id': 7, 'name': 'Name7', 'position': 'Data Scientist', 'salary': 77702.33, 'hire_date': '2020-11-18', 'department': 'Marketing', 'email': 'Name7@example.com', 'phone_number': '555-123-3286', 'address': '3286 Elm St, City86, State36'}\n",
      "demo_testing2 key=None value={'id': 8, 'name': 'Name8', 'position': 'Software Engineer', 'salary': 67685.71, 'hire_date': '2016-10-11', 'department': 'HR', 'email': 'Name8@example.com', 'phone_number': '555-123-6532', 'address': '6532 Elm St, City32, State32'}\n",
      "demo_testing2 key=None value={'id': 9, 'name': 'Name9', 'position': 'Data Scientist', 'salary': 93440.71, 'hire_date': '2022-02-08', 'department': 'Finance', 'email': 'Name9@example.com', 'phone_number': '555-123-5816', 'address': '5816 Elm St, City16, State16'}\n",
      "demo_testing2 key=None value={'id': 10, 'name': 'Name10', 'position': 'Software Engineer', 'salary': 90446.5, 'hire_date': '2019-02-11', 'department': 'HR', 'email': 'Name10@example.com', 'phone_number': '555-123-5933', 'address': '5933 Elm St, City33, State33'}\n"
     ]
    },
    {
     "name": "stdout",
     "output_type": "stream",
     "text": [
      "demo_testing2 key=None value={'id': 1, 'name': 'Name1', 'position': 'UX Designer', 'salary': 59027.04, 'hire_date': '2021-08-16', 'department': 'HR', 'email': 'Name1@example.com', 'phone_number': '555-123-8651', 'address': '8651 Main St, City51, State1'}\n",
      "demo_testing2 key=None value={'id': 2, 'name': 'Name2', 'position': 'Software Engineer', 'salary': 50915.06, 'hire_date': '2024-04-01', 'department': 'IT', 'email': 'Name2@example.com', 'phone_number': '555-123-0301', 'address': '301 Elm St, City1, State1'}\n",
      "demo_testing2 key=None value={'id': 3, 'name': 'Name3', 'position': 'UX Designer', 'salary': 88427.92, 'hire_date': '2020-12-30', 'department': 'Finance', 'email': 'Name3@example.com', 'phone_number': '555-123-0208', 'address': '208 Elm St, City8, State8'}\n",
      "demo_testing2 key=None value={'id': 4, 'name': 'Name4', 'position': 'Project Manager', 'salary': 90161.44, 'hire_date': '2018-04-30', 'department': 'Finance', 'email': 'Name4@example.com', 'phone_number': '555-123-5946', 'address': '5946 Main St, City46, State46'}\n",
      "demo_testing2 key=None value={'id': 5, 'name': 'Name5', 'position': 'Project Manager', 'salary': 97306.5, 'hire_date': '2017-01-12', 'department': 'Finance', 'email': 'Name5@example.com', 'phone_number': '555-123-3843', 'address': '3843 Elm St, City43, State43'}\n",
      "demo_testing2 key=None value={'id': 6, 'name': 'Name6', 'position': 'Project Manager', 'salary': 55310.52, 'hire_date': '2019-03-14', 'department': 'Marketing', 'email': 'Name6@example.com', 'phone_number': '555-123-7232', 'address': '7232 Elm St, City32, State32'}\n",
      "demo_testing2 key=None value={'id': 7, 'name': 'Name7', 'position': 'Data Scientist', 'salary': 77702.33, 'hire_date': '2020-11-18', 'department': 'Marketing', 'email': 'Name7@example.com', 'phone_number': '555-123-3286', 'address': '3286 Elm St, City86, State36'}\n",
      "demo_testing2 key=None value={'id': 8, 'name': 'Name8', 'position': 'Software Engineer', 'salary': 67685.71, 'hire_date': '2016-10-11', 'department': 'HR', 'email': 'Name8@example.com', 'phone_number': '555-123-6532', 'address': '6532 Elm St, City32, State32'}\n",
      "demo_testing2 key=None value={'id': 9, 'name': 'Name9', 'position': 'Data Scientist', 'salary': 93440.71, 'hire_date': '2022-02-08', 'department': 'Finance', 'email': 'Name9@example.com', 'phone_number': '555-123-5816', 'address': '5816 Elm St, City16, State16'}\n",
      "demo_testing2 key=None value={'id': 10, 'name': 'Name10', 'position': 'Software Engineer', 'salary': 90446.5, 'hire_date': '2019-02-11', 'department': 'HR', 'email': 'Name10@example.com', 'phone_number': '555-123-5933', 'address': '5933 Elm St, City33, State33'}\n",
      "demo_testing2 key=None value={'id': 1, 'name': 'Name1', 'position': 'UX Designer', 'salary': 59027.04, 'hire_date': '2021-08-16', 'department': 'HR', 'email': 'Name1@example.com', 'phone_number': '555-123-8651', 'address': '8651 Main St, City51, State1'}\n",
      "demo_testing2 key=None value={'id': 2, 'name': 'Name2', 'position': 'Software Engineer', 'salary': 50915.06, 'hire_date': '2024-04-01', 'department': 'IT', 'email': 'Name2@example.com', 'phone_number': '555-123-0301', 'address': '301 Elm St, City1, State1'}\n",
      "demo_testing2 key=None value={'id': 3, 'name': 'Name3', 'position': 'UX Designer', 'salary': 88427.92, 'hire_date': '2020-12-30', 'department': 'Finance', 'email': 'Name3@example.com', 'phone_number': '555-123-0208', 'address': '208 Elm St, City8, State8'}\n",
      "demo_testing2 key=None value={'id': 4, 'name': 'Name4', 'position': 'Project Manager', 'salary': 90161.44, 'hire_date': '2018-04-30', 'department': 'Finance', 'email': 'Name4@example.com', 'phone_number': '555-123-5946', 'address': '5946 Main St, City46, State46'}\n",
      "demo_testing2 key=None value={'id': 5, 'name': 'Name5', 'position': 'Project Manager', 'salary': 97306.5, 'hire_date': '2017-01-12', 'department': 'Finance', 'email': 'Name5@example.com', 'phone_number': '555-123-3843', 'address': '3843 Elm St, City43, State43'}\n",
      "demo_testing2 key=None value={'id': 6, 'name': 'Name6', 'position': 'Project Manager', 'salary': 55310.52, 'hire_date': '2019-03-14', 'department': 'Marketing', 'email': 'Name6@example.com', 'phone_number': '555-123-7232', 'address': '7232 Elm St, City32, State32'}\n",
      "demo_testing2 key=None value={'id': 7, 'name': 'Name7', 'position': 'Data Scientist', 'salary': 77702.33, 'hire_date': '2020-11-18', 'department': 'Marketing', 'email': 'Name7@example.com', 'phone_number': '555-123-3286', 'address': '3286 Elm St, City86, State36'}\n",
      "demo_testing2 key=None value={'id': 8, 'name': 'Name8', 'position': 'Software Engineer', 'salary': 67685.71, 'hire_date': '2016-10-11', 'department': 'HR', 'email': 'Name8@example.com', 'phone_number': '555-123-6532', 'address': '6532 Elm St, City32, State32'}\n",
      "demo_testing2 key=None value={'id': 9, 'name': 'Name9', 'position': 'Data Scientist', 'salary': 93440.71, 'hire_date': '2022-02-08', 'department': 'Finance', 'email': 'Name9@example.com', 'phone_number': '555-123-5816', 'address': '5816 Elm St, City16, State16'}\n",
      "demo_testing2 key=None value={'id': 10, 'name': 'Name10', 'position': 'Software Engineer', 'salary': 90446.5, 'hire_date': '2019-02-11', 'department': 'HR', 'email': 'Name10@example.com', 'phone_number': '555-123-5933', 'address': '5933 Elm St, City33, State33'}\n",
      "demo_testing2 key=None value={'id': 1, 'name': 'Name1', 'position': 'UX Designer', 'salary': 59027.04, 'hire_date': '2021-08-16', 'department': 'HR', 'email': 'Name1@example.com', 'phone_number': '555-123-8651', 'address': '8651 Main St, City51, State1'}\n",
      "demo_testing2 key=None value={'id': 2, 'name': 'Name2', 'position': 'Software Engineer', 'salary': 50915.06, 'hire_date': '2024-04-01', 'department': 'IT', 'email': 'Name2@example.com', 'phone_number': '555-123-0301', 'address': '301 Elm St, City1, State1'}\n",
      "demo_testing2 key=None value={'id': 3, 'name': 'Name3', 'position': 'UX Designer', 'salary': 88427.92, 'hire_date': '2020-12-30', 'department': 'Finance', 'email': 'Name3@example.com', 'phone_number': '555-123-0208', 'address': '208 Elm St, City8, State8'}\n",
      "demo_testing2 key=None value={'id': 4, 'name': 'Name4', 'position': 'Project Manager', 'salary': 90161.44, 'hire_date': '2018-04-30', 'department': 'Finance', 'email': 'Name4@example.com', 'phone_number': '555-123-5946', 'address': '5946 Main St, City46, State46'}\n",
      "demo_testing2 key=None value={'id': 5, 'name': 'Name5', 'position': 'Project Manager', 'salary': 97306.5, 'hire_date': '2017-01-12', 'department': 'Finance', 'email': 'Name5@example.com', 'phone_number': '555-123-3843', 'address': '3843 Elm St, City43, State43'}\n",
      "demo_testing2 key=None value={'id': 6, 'name': 'Name6', 'position': 'Project Manager', 'salary': 55310.52, 'hire_date': '2019-03-14', 'department': 'Marketing', 'email': 'Name6@example.com', 'phone_number': '555-123-7232', 'address': '7232 Elm St, City32, State32'}\n",
      "demo_testing2 key=None value={'id': 7, 'name': 'Name7', 'position': 'Data Scientist', 'salary': 77702.33, 'hire_date': '2020-11-18', 'department': 'Marketing', 'email': 'Name7@example.com', 'phone_number': '555-123-3286', 'address': '3286 Elm St, City86, State36'}\n",
      "demo_testing2 key=None value={'id': 8, 'name': 'Name8', 'position': 'Software Engineer', 'salary': 67685.71, 'hire_date': '2016-10-11', 'department': 'HR', 'email': 'Name8@example.com', 'phone_number': '555-123-6532', 'address': '6532 Elm St, City32, State32'}\n",
      "demo_testing2 key=None value={'id': 9, 'name': 'Name9', 'position': 'Data Scientist', 'salary': 93440.71, 'hire_date': '2022-02-08', 'department': 'Finance', 'email': 'Name9@example.com', 'phone_number': '555-123-5816', 'address': '5816 Elm St, City16, State16'}\n",
      "demo_testing2 key=None value={'id': 10, 'name': 'Name10', 'position': 'Software Engineer', 'salary': 90446.5, 'hire_date': '2019-02-11', 'department': 'HR', 'email': 'Name10@example.com', 'phone_number': '555-123-5933', 'address': '5933 Elm St, City33, State33'}\n",
      "demo_testing2 key=None value={'id': 1, 'name': 'Name1', 'position': 'UX Designer', 'salary': 59027.04, 'hire_date': '2021-08-16', 'department': 'HR', 'email': 'Name1@example.com', 'phone_number': '555-123-8651', 'address': '8651 Main St, City51, State1'}\n",
      "demo_testing2 key=None value={'id': 2, 'name': 'Name2', 'position': 'Software Engineer', 'salary': 50915.06, 'hire_date': '2024-04-01', 'department': 'IT', 'email': 'Name2@example.com', 'phone_number': '555-123-0301', 'address': '301 Elm St, City1, State1'}\n",
      "demo_testing2 key=None value={'id': 3, 'name': 'Name3', 'position': 'UX Designer', 'salary': 88427.92, 'hire_date': '2020-12-30', 'department': 'Finance', 'email': 'Name3@example.com', 'phone_number': '555-123-0208', 'address': '208 Elm St, City8, State8'}\n",
      "demo_testing2 key=None value={'id': 4, 'name': 'Name4', 'position': 'Project Manager', 'salary': 90161.44, 'hire_date': '2018-04-30', 'department': 'Finance', 'email': 'Name4@example.com', 'phone_number': '555-123-5946', 'address': '5946 Main St, City46, State46'}\n",
      "demo_testing2 key=None value={'id': 5, 'name': 'Name5', 'position': 'Project Manager', 'salary': 97306.5, 'hire_date': '2017-01-12', 'department': 'Finance', 'email': 'Name5@example.com', 'phone_number': '555-123-3843', 'address': '3843 Elm St, City43, State43'}\n",
      "demo_testing2 key=None value={'id': 6, 'name': 'Name6', 'position': 'Project Manager', 'salary': 55310.52, 'hire_date': '2019-03-14', 'department': 'Marketing', 'email': 'Name6@example.com', 'phone_number': '555-123-7232', 'address': '7232 Elm St, City32, State32'}\n",
      "demo_testing2 key=None value={'id': 7, 'name': 'Name7', 'position': 'Data Scientist', 'salary': 77702.33, 'hire_date': '2020-11-18', 'department': 'Marketing', 'email': 'Name7@example.com', 'phone_number': '555-123-3286', 'address': '3286 Elm St, City86, State36'}\n",
      "demo_testing2 key=None value={'id': 8, 'name': 'Name8', 'position': 'Software Engineer', 'salary': 67685.71, 'hire_date': '2016-10-11', 'department': 'HR', 'email': 'Name8@example.com', 'phone_number': '555-123-6532', 'address': '6532 Elm St, City32, State32'}\n",
      "demo_testing2 key=None value={'id': 9, 'name': 'Name9', 'position': 'Data Scientist', 'salary': 93440.71, 'hire_date': '2022-02-08', 'department': 'Finance', 'email': 'Name9@example.com', 'phone_number': '555-123-5816', 'address': '5816 Elm St, City16, State16'}\n",
      "demo_testing2 key=None value={'id': 10, 'name': 'Name10', 'position': 'Software Engineer', 'salary': 90446.5, 'hire_date': '2019-02-11', 'department': 'HR', 'email': 'Name10@example.com', 'phone_number': '555-123-5933', 'address': '5933 Elm St, City33, State33'}\n"
     ]
    },
    {
     "name": "stdout",
     "output_type": "stream",
     "text": [
      "demo_testing2 key=None value={'id': 1, 'name': 'Name1', 'position': 'UX Designer', 'salary': 59027.04, 'hire_date': '2021-08-16', 'department': 'HR', 'email': 'Name1@example.com', 'phone_number': '555-123-8651', 'address': '8651 Main St, City51, State1'}\n",
      "demo_testing2 key=None value={'id': 2, 'name': 'Name2', 'position': 'Software Engineer', 'salary': 50915.06, 'hire_date': '2024-04-01', 'department': 'IT', 'email': 'Name2@example.com', 'phone_number': '555-123-0301', 'address': '301 Elm St, City1, State1'}\n",
      "demo_testing2 key=None value={'id': 3, 'name': 'Name3', 'position': 'UX Designer', 'salary': 88427.92, 'hire_date': '2020-12-30', 'department': 'Finance', 'email': 'Name3@example.com', 'phone_number': '555-123-0208', 'address': '208 Elm St, City8, State8'}\n",
      "demo_testing2 key=None value={'id': 4, 'name': 'Name4', 'position': 'Project Manager', 'salary': 90161.44, 'hire_date': '2018-04-30', 'department': 'Finance', 'email': 'Name4@example.com', 'phone_number': '555-123-5946', 'address': '5946 Main St, City46, State46'}\n",
      "demo_testing2 key=None value={'id': 5, 'name': 'Name5', 'position': 'Project Manager', 'salary': 97306.5, 'hire_date': '2017-01-12', 'department': 'Finance', 'email': 'Name5@example.com', 'phone_number': '555-123-3843', 'address': '3843 Elm St, City43, State43'}\n",
      "demo_testing2 key=None value={'id': 6, 'name': 'Name6', 'position': 'Project Manager', 'salary': 55310.52, 'hire_date': '2019-03-14', 'department': 'Marketing', 'email': 'Name6@example.com', 'phone_number': '555-123-7232', 'address': '7232 Elm St, City32, State32'}\n",
      "demo_testing2 key=None value={'id': 7, 'name': 'Name7', 'position': 'Data Scientist', 'salary': 77702.33, 'hire_date': '2020-11-18', 'department': 'Marketing', 'email': 'Name7@example.com', 'phone_number': '555-123-3286', 'address': '3286 Elm St, City86, State36'}\n",
      "demo_testing2 key=None value={'id': 8, 'name': 'Name8', 'position': 'Software Engineer', 'salary': 67685.71, 'hire_date': '2016-10-11', 'department': 'HR', 'email': 'Name8@example.com', 'phone_number': '555-123-6532', 'address': '6532 Elm St, City32, State32'}\n",
      "demo_testing2 key=None value={'id': 9, 'name': 'Name9', 'position': 'Data Scientist', 'salary': 93440.71, 'hire_date': '2022-02-08', 'department': 'Finance', 'email': 'Name9@example.com', 'phone_number': '555-123-5816', 'address': '5816 Elm St, City16, State16'}\n",
      "demo_testing2 key=None value={'id': 10, 'name': 'Name10', 'position': 'Software Engineer', 'salary': 90446.5, 'hire_date': '2019-02-11', 'department': 'HR', 'email': 'Name10@example.com', 'phone_number': '555-123-5933', 'address': '5933 Elm St, City33, State33'}\n",
      "demo_testing2 key=None value={'id': 1, 'name': 'Name1', 'position': 'UX Designer', 'salary': 59027.04, 'hire_date': '2021-08-16', 'department': 'HR', 'email': 'Name1@example.com', 'phone_number': '555-123-8651', 'address': '8651 Main St, City51, State1'}\n",
      "demo_testing2 key=None value={'id': 2, 'name': 'Name2', 'position': 'Software Engineer', 'salary': 50915.06, 'hire_date': '2024-04-01', 'department': 'IT', 'email': 'Name2@example.com', 'phone_number': '555-123-0301', 'address': '301 Elm St, City1, State1'}\n",
      "demo_testing2 key=None value={'id': 3, 'name': 'Name3', 'position': 'UX Designer', 'salary': 88427.92, 'hire_date': '2020-12-30', 'department': 'Finance', 'email': 'Name3@example.com', 'phone_number': '555-123-0208', 'address': '208 Elm St, City8, State8'}\n",
      "demo_testing2 key=None value={'id': 4, 'name': 'Name4', 'position': 'Project Manager', 'salary': 90161.44, 'hire_date': '2018-04-30', 'department': 'Finance', 'email': 'Name4@example.com', 'phone_number': '555-123-5946', 'address': '5946 Main St, City46, State46'}\n",
      "demo_testing2 key=None value={'id': 5, 'name': 'Name5', 'position': 'Project Manager', 'salary': 97306.5, 'hire_date': '2017-01-12', 'department': 'Finance', 'email': 'Name5@example.com', 'phone_number': '555-123-3843', 'address': '3843 Elm St, City43, State43'}\n",
      "demo_testing2 key=None value={'id': 6, 'name': 'Name6', 'position': 'Project Manager', 'salary': 55310.52, 'hire_date': '2019-03-14', 'department': 'Marketing', 'email': 'Name6@example.com', 'phone_number': '555-123-7232', 'address': '7232 Elm St, City32, State32'}\n",
      "demo_testing2 key=None value={'id': 7, 'name': 'Name7', 'position': 'Data Scientist', 'salary': 77702.33, 'hire_date': '2020-11-18', 'department': 'Marketing', 'email': 'Name7@example.com', 'phone_number': '555-123-3286', 'address': '3286 Elm St, City86, State36'}\n",
      "demo_testing2 key=None value={'id': 8, 'name': 'Name8', 'position': 'Software Engineer', 'salary': 67685.71, 'hire_date': '2016-10-11', 'department': 'HR', 'email': 'Name8@example.com', 'phone_number': '555-123-6532', 'address': '6532 Elm St, City32, State32'}\n",
      "demo_testing2 key=None value={'id': 9, 'name': 'Name9', 'position': 'Data Scientist', 'salary': 93440.71, 'hire_date': '2022-02-08', 'department': 'Finance', 'email': 'Name9@example.com', 'phone_number': '555-123-5816', 'address': '5816 Elm St, City16, State16'}\n",
      "demo_testing2 key=None value={'id': 10, 'name': 'Name10', 'position': 'Software Engineer', 'salary': 90446.5, 'hire_date': '2019-02-11', 'department': 'HR', 'email': 'Name10@example.com', 'phone_number': '555-123-5933', 'address': '5933 Elm St, City33, State33'}\n",
      "demo_testing2 key=None value={'id': 1, 'name': 'Name1', 'position': 'UX Designer', 'salary': 59027.04, 'hire_date': '2021-08-16', 'department': 'HR', 'email': 'Name1@example.com', 'phone_number': '555-123-8651', 'address': '8651 Main St, City51, State1'}\n",
      "demo_testing2 key=None value={'id': 2, 'name': 'Name2', 'position': 'Software Engineer', 'salary': 50915.06, 'hire_date': '2024-04-01', 'department': 'IT', 'email': 'Name2@example.com', 'phone_number': '555-123-0301', 'address': '301 Elm St, City1, State1'}\n",
      "demo_testing2 key=None value={'id': 3, 'name': 'Name3', 'position': 'UX Designer', 'salary': 88427.92, 'hire_date': '2020-12-30', 'department': 'Finance', 'email': 'Name3@example.com', 'phone_number': '555-123-0208', 'address': '208 Elm St, City8, State8'}\n",
      "demo_testing2 key=None value={'id': 4, 'name': 'Name4', 'position': 'Project Manager', 'salary': 90161.44, 'hire_date': '2018-04-30', 'department': 'Finance', 'email': 'Name4@example.com', 'phone_number': '555-123-5946', 'address': '5946 Main St, City46, State46'}\n",
      "demo_testing2 key=None value={'id': 5, 'name': 'Name5', 'position': 'Project Manager', 'salary': 97306.5, 'hire_date': '2017-01-12', 'department': 'Finance', 'email': 'Name5@example.com', 'phone_number': '555-123-3843', 'address': '3843 Elm St, City43, State43'}\n",
      "demo_testing2 key=None value={'id': 6, 'name': 'Name6', 'position': 'Project Manager', 'salary': 55310.52, 'hire_date': '2019-03-14', 'department': 'Marketing', 'email': 'Name6@example.com', 'phone_number': '555-123-7232', 'address': '7232 Elm St, City32, State32'}\n",
      "demo_testing2 key=None value={'id': 7, 'name': 'Name7', 'position': 'Data Scientist', 'salary': 77702.33, 'hire_date': '2020-11-18', 'department': 'Marketing', 'email': 'Name7@example.com', 'phone_number': '555-123-3286', 'address': '3286 Elm St, City86, State36'}\n",
      "demo_testing2 key=None value={'id': 8, 'name': 'Name8', 'position': 'Software Engineer', 'salary': 67685.71, 'hire_date': '2016-10-11', 'department': 'HR', 'email': 'Name8@example.com', 'phone_number': '555-123-6532', 'address': '6532 Elm St, City32, State32'}\n",
      "demo_testing2 key=None value={'id': 9, 'name': 'Name9', 'position': 'Data Scientist', 'salary': 93440.71, 'hire_date': '2022-02-08', 'department': 'Finance', 'email': 'Name9@example.com', 'phone_number': '555-123-5816', 'address': '5816 Elm St, City16, State16'}\n",
      "demo_testing2 key=None value={'id': 10, 'name': 'Name10', 'position': 'Software Engineer', 'salary': 90446.5, 'hire_date': '2019-02-11', 'department': 'HR', 'email': 'Name10@example.com', 'phone_number': '555-123-5933', 'address': '5933 Elm St, City33, State33'}\n",
      "demo_testing2 key=None value={'id': 1, 'name': 'Name1', 'position': 'UX Designer', 'salary': 59027.04, 'hire_date': '2021-08-16', 'department': 'HR', 'email': 'Name1@example.com', 'phone_number': '555-123-8651', 'address': '8651 Main St, City51, State1'}\n",
      "demo_testing2 key=None value={'id': 2, 'name': 'Name2', 'position': 'Software Engineer', 'salary': 50915.06, 'hire_date': '2024-04-01', 'department': 'IT', 'email': 'Name2@example.com', 'phone_number': '555-123-0301', 'address': '301 Elm St, City1, State1'}\n",
      "demo_testing2 key=None value={'id': 3, 'name': 'Name3', 'position': 'UX Designer', 'salary': 88427.92, 'hire_date': '2020-12-30', 'department': 'Finance', 'email': 'Name3@example.com', 'phone_number': '555-123-0208', 'address': '208 Elm St, City8, State8'}\n",
      "demo_testing2 key=None value={'id': 4, 'name': 'Name4', 'position': 'Project Manager', 'salary': 90161.44, 'hire_date': '2018-04-30', 'department': 'Finance', 'email': 'Name4@example.com', 'phone_number': '555-123-5946', 'address': '5946 Main St, City46, State46'}\n",
      "demo_testing2 key=None value={'id': 5, 'name': 'Name5', 'position': 'Project Manager', 'salary': 97306.5, 'hire_date': '2017-01-12', 'department': 'Finance', 'email': 'Name5@example.com', 'phone_number': '555-123-3843', 'address': '3843 Elm St, City43, State43'}\n",
      "demo_testing2 key=None value={'id': 6, 'name': 'Name6', 'position': 'Project Manager', 'salary': 55310.52, 'hire_date': '2019-03-14', 'department': 'Marketing', 'email': 'Name6@example.com', 'phone_number': '555-123-7232', 'address': '7232 Elm St, City32, State32'}\n",
      "demo_testing2 key=None value={'id': 7, 'name': 'Name7', 'position': 'Data Scientist', 'salary': 77702.33, 'hire_date': '2020-11-18', 'department': 'Marketing', 'email': 'Name7@example.com', 'phone_number': '555-123-3286', 'address': '3286 Elm St, City86, State36'}\n",
      "demo_testing2 key=None value={'id': 8, 'name': 'Name8', 'position': 'Software Engineer', 'salary': 67685.71, 'hire_date': '2016-10-11', 'department': 'HR', 'email': 'Name8@example.com', 'phone_number': '555-123-6532', 'address': '6532 Elm St, City32, State32'}\n",
      "demo_testing2 key=None value={'id': 9, 'name': 'Name9', 'position': 'Data Scientist', 'salary': 93440.71, 'hire_date': '2022-02-08', 'department': 'Finance', 'email': 'Name9@example.com', 'phone_number': '555-123-5816', 'address': '5816 Elm St, City16, State16'}\n",
      "demo_testing2 key=None value={'id': 10, 'name': 'Name10', 'position': 'Software Engineer', 'salary': 90446.5, 'hire_date': '2019-02-11', 'department': 'HR', 'email': 'Name10@example.com', 'phone_number': '555-123-5933', 'address': '5933 Elm St, City33, State33'}\n"
     ]
    },
    {
     "name": "stdout",
     "output_type": "stream",
     "text": [
      "demo_testing2 key=None value={'id': 1, 'name': 'Name1', 'position': 'UX Designer', 'salary': 59027.04, 'hire_date': '2021-08-16', 'department': 'HR', 'email': 'Name1@example.com', 'phone_number': '555-123-8651', 'address': '8651 Main St, City51, State1'}\n",
      "demo_testing2 key=None value={'id': 2, 'name': 'Name2', 'position': 'Software Engineer', 'salary': 50915.06, 'hire_date': '2024-04-01', 'department': 'IT', 'email': 'Name2@example.com', 'phone_number': '555-123-0301', 'address': '301 Elm St, City1, State1'}\n",
      "demo_testing2 key=None value={'id': 3, 'name': 'Name3', 'position': 'UX Designer', 'salary': 88427.92, 'hire_date': '2020-12-30', 'department': 'Finance', 'email': 'Name3@example.com', 'phone_number': '555-123-0208', 'address': '208 Elm St, City8, State8'}\n",
      "demo_testing2 key=None value={'id': 4, 'name': 'Name4', 'position': 'Project Manager', 'salary': 90161.44, 'hire_date': '2018-04-30', 'department': 'Finance', 'email': 'Name4@example.com', 'phone_number': '555-123-5946', 'address': '5946 Main St, City46, State46'}\n",
      "demo_testing2 key=None value={'id': 5, 'name': 'Name5', 'position': 'Project Manager', 'salary': 97306.5, 'hire_date': '2017-01-12', 'department': 'Finance', 'email': 'Name5@example.com', 'phone_number': '555-123-3843', 'address': '3843 Elm St, City43, State43'}\n",
      "demo_testing2 key=None value={'id': 6, 'name': 'Name6', 'position': 'Project Manager', 'salary': 55310.52, 'hire_date': '2019-03-14', 'department': 'Marketing', 'email': 'Name6@example.com', 'phone_number': '555-123-7232', 'address': '7232 Elm St, City32, State32'}\n",
      "demo_testing2 key=None value={'id': 7, 'name': 'Name7', 'position': 'Data Scientist', 'salary': 77702.33, 'hire_date': '2020-11-18', 'department': 'Marketing', 'email': 'Name7@example.com', 'phone_number': '555-123-3286', 'address': '3286 Elm St, City86, State36'}\n",
      "demo_testing2 key=None value={'id': 8, 'name': 'Name8', 'position': 'Software Engineer', 'salary': 67685.71, 'hire_date': '2016-10-11', 'department': 'HR', 'email': 'Name8@example.com', 'phone_number': '555-123-6532', 'address': '6532 Elm St, City32, State32'}\n",
      "demo_testing2 key=None value={'id': 9, 'name': 'Name9', 'position': 'Data Scientist', 'salary': 93440.71, 'hire_date': '2022-02-08', 'department': 'Finance', 'email': 'Name9@example.com', 'phone_number': '555-123-5816', 'address': '5816 Elm St, City16, State16'}\n",
      "demo_testing2 key=None value={'id': 10, 'name': 'Name10', 'position': 'Software Engineer', 'salary': 90446.5, 'hire_date': '2019-02-11', 'department': 'HR', 'email': 'Name10@example.com', 'phone_number': '555-123-5933', 'address': '5933 Elm St, City33, State33'}\n",
      "demo_testing2 key=None value={'id': 1, 'name': 'Name1', 'position': 'UX Designer', 'salary': 59027.04, 'hire_date': '2021-08-16', 'department': 'HR', 'email': 'Name1@example.com', 'phone_number': '555-123-8651', 'address': '8651 Main St, City51, State1'}\n",
      "demo_testing2 key=None value={'id': 2, 'name': 'Name2', 'position': 'Software Engineer', 'salary': 50915.06, 'hire_date': '2024-04-01', 'department': 'IT', 'email': 'Name2@example.com', 'phone_number': '555-123-0301', 'address': '301 Elm St, City1, State1'}\n",
      "demo_testing2 key=None value={'id': 3, 'name': 'Name3', 'position': 'UX Designer', 'salary': 88427.92, 'hire_date': '2020-12-30', 'department': 'Finance', 'email': 'Name3@example.com', 'phone_number': '555-123-0208', 'address': '208 Elm St, City8, State8'}\n",
      "demo_testing2 key=None value={'id': 4, 'name': 'Name4', 'position': 'Project Manager', 'salary': 90161.44, 'hire_date': '2018-04-30', 'department': 'Finance', 'email': 'Name4@example.com', 'phone_number': '555-123-5946', 'address': '5946 Main St, City46, State46'}\n",
      "demo_testing2 key=None value={'id': 5, 'name': 'Name5', 'position': 'Project Manager', 'salary': 97306.5, 'hire_date': '2017-01-12', 'department': 'Finance', 'email': 'Name5@example.com', 'phone_number': '555-123-3843', 'address': '3843 Elm St, City43, State43'}\n",
      "demo_testing2 key=None value={'id': 6, 'name': 'Name6', 'position': 'Project Manager', 'salary': 55310.52, 'hire_date': '2019-03-14', 'department': 'Marketing', 'email': 'Name6@example.com', 'phone_number': '555-123-7232', 'address': '7232 Elm St, City32, State32'}\n",
      "demo_testing2 key=None value={'id': 7, 'name': 'Name7', 'position': 'Data Scientist', 'salary': 77702.33, 'hire_date': '2020-11-18', 'department': 'Marketing', 'email': 'Name7@example.com', 'phone_number': '555-123-3286', 'address': '3286 Elm St, City86, State36'}\n",
      "demo_testing2 key=None value={'id': 8, 'name': 'Name8', 'position': 'Software Engineer', 'salary': 67685.71, 'hire_date': '2016-10-11', 'department': 'HR', 'email': 'Name8@example.com', 'phone_number': '555-123-6532', 'address': '6532 Elm St, City32, State32'}\n",
      "demo_testing2 key=None value={'id': 9, 'name': 'Name9', 'position': 'Data Scientist', 'salary': 93440.71, 'hire_date': '2022-02-08', 'department': 'Finance', 'email': 'Name9@example.com', 'phone_number': '555-123-5816', 'address': '5816 Elm St, City16, State16'}\n",
      "demo_testing2 key=None value={'id': 10, 'name': 'Name10', 'position': 'Software Engineer', 'salary': 90446.5, 'hire_date': '2019-02-11', 'department': 'HR', 'email': 'Name10@example.com', 'phone_number': '555-123-5933', 'address': '5933 Elm St, City33, State33'}\n",
      "demo_testing2 key=None value={'id': 1, 'name': 'Name1', 'position': 'UX Designer', 'salary': 59027.04, 'hire_date': '2021-08-16', 'department': 'HR', 'email': 'Name1@example.com', 'phone_number': '555-123-8651', 'address': '8651 Main St, City51, State1'}\n",
      "demo_testing2 key=None value={'id': 2, 'name': 'Name2', 'position': 'Software Engineer', 'salary': 50915.06, 'hire_date': '2024-04-01', 'department': 'IT', 'email': 'Name2@example.com', 'phone_number': '555-123-0301', 'address': '301 Elm St, City1, State1'}\n",
      "demo_testing2 key=None value={'id': 3, 'name': 'Name3', 'position': 'UX Designer', 'salary': 88427.92, 'hire_date': '2020-12-30', 'department': 'Finance', 'email': 'Name3@example.com', 'phone_number': '555-123-0208', 'address': '208 Elm St, City8, State8'}\n",
      "demo_testing2 key=None value={'id': 4, 'name': 'Name4', 'position': 'Project Manager', 'salary': 90161.44, 'hire_date': '2018-04-30', 'department': 'Finance', 'email': 'Name4@example.com', 'phone_number': '555-123-5946', 'address': '5946 Main St, City46, State46'}\n",
      "demo_testing2 key=None value={'id': 5, 'name': 'Name5', 'position': 'Project Manager', 'salary': 97306.5, 'hire_date': '2017-01-12', 'department': 'Finance', 'email': 'Name5@example.com', 'phone_number': '555-123-3843', 'address': '3843 Elm St, City43, State43'}\n",
      "demo_testing2 key=None value={'id': 6, 'name': 'Name6', 'position': 'Project Manager', 'salary': 55310.52, 'hire_date': '2019-03-14', 'department': 'Marketing', 'email': 'Name6@example.com', 'phone_number': '555-123-7232', 'address': '7232 Elm St, City32, State32'}\n",
      "demo_testing2 key=None value={'id': 7, 'name': 'Name7', 'position': 'Data Scientist', 'salary': 77702.33, 'hire_date': '2020-11-18', 'department': 'Marketing', 'email': 'Name7@example.com', 'phone_number': '555-123-3286', 'address': '3286 Elm St, City86, State36'}\n",
      "demo_testing2 key=None value={'id': 8, 'name': 'Name8', 'position': 'Software Engineer', 'salary': 67685.71, 'hire_date': '2016-10-11', 'department': 'HR', 'email': 'Name8@example.com', 'phone_number': '555-123-6532', 'address': '6532 Elm St, City32, State32'}\n",
      "demo_testing2 key=None value={'id': 9, 'name': 'Name9', 'position': 'Data Scientist', 'salary': 93440.71, 'hire_date': '2022-02-08', 'department': 'Finance', 'email': 'Name9@example.com', 'phone_number': '555-123-5816', 'address': '5816 Elm St, City16, State16'}\n",
      "demo_testing2 key=None value={'id': 10, 'name': 'Name10', 'position': 'Software Engineer', 'salary': 90446.5, 'hire_date': '2019-02-11', 'department': 'HR', 'email': 'Name10@example.com', 'phone_number': '555-123-5933', 'address': '5933 Elm St, City33, State33'}\n",
      "demo_testing2 key=None value={'id': 1, 'name': 'Name1', 'position': 'UX Designer', 'salary': 59027.04, 'hire_date': '2021-08-16', 'department': 'HR', 'email': 'Name1@example.com', 'phone_number': '555-123-8651', 'address': '8651 Main St, City51, State1'}\n",
      "demo_testing2 key=None value={'id': 2, 'name': 'Name2', 'position': 'Software Engineer', 'salary': 50915.06, 'hire_date': '2024-04-01', 'department': 'IT', 'email': 'Name2@example.com', 'phone_number': '555-123-0301', 'address': '301 Elm St, City1, State1'}\n",
      "demo_testing2 key=None value={'id': 3, 'name': 'Name3', 'position': 'UX Designer', 'salary': 88427.92, 'hire_date': '2020-12-30', 'department': 'Finance', 'email': 'Name3@example.com', 'phone_number': '555-123-0208', 'address': '208 Elm St, City8, State8'}\n",
      "demo_testing2 key=None value={'id': 4, 'name': 'Name4', 'position': 'Project Manager', 'salary': 90161.44, 'hire_date': '2018-04-30', 'department': 'Finance', 'email': 'Name4@example.com', 'phone_number': '555-123-5946', 'address': '5946 Main St, City46, State46'}\n",
      "demo_testing2 key=None value={'id': 5, 'name': 'Name5', 'position': 'Project Manager', 'salary': 97306.5, 'hire_date': '2017-01-12', 'department': 'Finance', 'email': 'Name5@example.com', 'phone_number': '555-123-3843', 'address': '3843 Elm St, City43, State43'}\n",
      "demo_testing2 key=None value={'id': 6, 'name': 'Name6', 'position': 'Project Manager', 'salary': 55310.52, 'hire_date': '2019-03-14', 'department': 'Marketing', 'email': 'Name6@example.com', 'phone_number': '555-123-7232', 'address': '7232 Elm St, City32, State32'}\n",
      "demo_testing2 key=None value={'id': 7, 'name': 'Name7', 'position': 'Data Scientist', 'salary': 77702.33, 'hire_date': '2020-11-18', 'department': 'Marketing', 'email': 'Name7@example.com', 'phone_number': '555-123-3286', 'address': '3286 Elm St, City86, State36'}\n",
      "demo_testing2 key=None value={'id': 8, 'name': 'Name8', 'position': 'Software Engineer', 'salary': 67685.71, 'hire_date': '2016-10-11', 'department': 'HR', 'email': 'Name8@example.com', 'phone_number': '555-123-6532', 'address': '6532 Elm St, City32, State32'}\n",
      "demo_testing2 key=None value={'id': 9, 'name': 'Name9', 'position': 'Data Scientist', 'salary': 93440.71, 'hire_date': '2022-02-08', 'department': 'Finance', 'email': 'Name9@example.com', 'phone_number': '555-123-5816', 'address': '5816 Elm St, City16, State16'}\n",
      "demo_testing2 key=None value={'id': 10, 'name': 'Name10', 'position': 'Software Engineer', 'salary': 90446.5, 'hire_date': '2019-02-11', 'department': 'HR', 'email': 'Name10@example.com', 'phone_number': '555-123-5933', 'address': '5933 Elm St, City33, State33'}\n"
     ]
    },
    {
     "name": "stdout",
     "output_type": "stream",
     "text": [
      "demo_testing2 key=None value={'id': 1, 'name': 'Name1', 'position': 'UX Designer', 'salary': 59027.04, 'hire_date': '2021-08-16', 'department': 'HR', 'email': 'Name1@example.com', 'phone_number': '555-123-8651', 'address': '8651 Main St, City51, State1'}\n",
      "demo_testing2 key=None value={'id': 2, 'name': 'Name2', 'position': 'Software Engineer', 'salary': 50915.06, 'hire_date': '2024-04-01', 'department': 'IT', 'email': 'Name2@example.com', 'phone_number': '555-123-0301', 'address': '301 Elm St, City1, State1'}\n",
      "demo_testing2 key=None value={'id': 3, 'name': 'Name3', 'position': 'UX Designer', 'salary': 88427.92, 'hire_date': '2020-12-30', 'department': 'Finance', 'email': 'Name3@example.com', 'phone_number': '555-123-0208', 'address': '208 Elm St, City8, State8'}\n",
      "demo_testing2 key=None value={'id': 4, 'name': 'Name4', 'position': 'Project Manager', 'salary': 90161.44, 'hire_date': '2018-04-30', 'department': 'Finance', 'email': 'Name4@example.com', 'phone_number': '555-123-5946', 'address': '5946 Main St, City46, State46'}\n",
      "demo_testing2 key=None value={'id': 5, 'name': 'Name5', 'position': 'Project Manager', 'salary': 97306.5, 'hire_date': '2017-01-12', 'department': 'Finance', 'email': 'Name5@example.com', 'phone_number': '555-123-3843', 'address': '3843 Elm St, City43, State43'}\n",
      "demo_testing2 key=None value={'id': 6, 'name': 'Name6', 'position': 'Project Manager', 'salary': 55310.52, 'hire_date': '2019-03-14', 'department': 'Marketing', 'email': 'Name6@example.com', 'phone_number': '555-123-7232', 'address': '7232 Elm St, City32, State32'}\n",
      "demo_testing2 key=None value={'id': 7, 'name': 'Name7', 'position': 'Data Scientist', 'salary': 77702.33, 'hire_date': '2020-11-18', 'department': 'Marketing', 'email': 'Name7@example.com', 'phone_number': '555-123-3286', 'address': '3286 Elm St, City86, State36'}\n",
      "demo_testing2 key=None value={'id': 8, 'name': 'Name8', 'position': 'Software Engineer', 'salary': 67685.71, 'hire_date': '2016-10-11', 'department': 'HR', 'email': 'Name8@example.com', 'phone_number': '555-123-6532', 'address': '6532 Elm St, City32, State32'}\n",
      "demo_testing2 key=None value={'id': 9, 'name': 'Name9', 'position': 'Data Scientist', 'salary': 93440.71, 'hire_date': '2022-02-08', 'department': 'Finance', 'email': 'Name9@example.com', 'phone_number': '555-123-5816', 'address': '5816 Elm St, City16, State16'}\n",
      "demo_testing2 key=None value={'id': 10, 'name': 'Name10', 'position': 'Software Engineer', 'salary': 90446.5, 'hire_date': '2019-02-11', 'department': 'HR', 'email': 'Name10@example.com', 'phone_number': '555-123-5933', 'address': '5933 Elm St, City33, State33'}\n"
     ]
    },
    {
     "ename": "JSONDecodeError",
     "evalue": "Expecting value: line 1 column 1 (char 0)",
     "output_type": "error",
     "traceback": [
      "\u001b[1;31m---------------------------------------------------------------------------\u001b[0m",
      "\u001b[1;31mJSONDecodeError\u001b[0m                           Traceback (most recent call last)",
      "Input \u001b[1;32mIn [3]\u001b[0m, in \u001b[0;36m<module>\u001b[1;34m\u001b[0m\n\u001b[0;32m      1\u001b[0m df \u001b[38;5;241m=\u001b[39m pd\u001b[38;5;241m.\u001b[39mDataFrame()\n\u001b[1;32m----> 2\u001b[0m \u001b[38;5;28;01mfor\u001b[39;00m message \u001b[38;5;129;01min\u001b[39;00m consumer:\n\u001b[0;32m      3\u001b[0m     \u001b[38;5;28mprint\u001b[39m(\u001b[38;5;124m\"\u001b[39m\u001b[38;5;132;01m%s\u001b[39;00m\u001b[38;5;124m key=\u001b[39m\u001b[38;5;132;01m%s\u001b[39;00m\u001b[38;5;124m value=\u001b[39m\u001b[38;5;132;01m%s\u001b[39;00m\u001b[38;5;124m\"\u001b[39m \u001b[38;5;241m%\u001b[39m (message\u001b[38;5;241m.\u001b[39mtopic, message\u001b[38;5;241m.\u001b[39mkey, message\u001b[38;5;241m.\u001b[39mvalue))\n",
      "File \u001b[1;32mc:\\users\\harsh\\appdata\\local\\programs\\python\\python39\\lib\\site-packages\\kafka\\consumer\\group.py:1193\u001b[0m, in \u001b[0;36mKafkaConsumer.__next__\u001b[1;34m(self)\u001b[0m\n\u001b[0;32m   1191\u001b[0m     \u001b[38;5;28;01mreturn\u001b[39;00m \u001b[38;5;28mself\u001b[39m\u001b[38;5;241m.\u001b[39mnext_v1()\n\u001b[0;32m   1192\u001b[0m \u001b[38;5;28;01melse\u001b[39;00m:\n\u001b[1;32m-> 1193\u001b[0m     \u001b[38;5;28;01mreturn\u001b[39;00m \u001b[38;5;28;43mself\u001b[39;49m\u001b[38;5;241;43m.\u001b[39;49m\u001b[43mnext_v2\u001b[49m\u001b[43m(\u001b[49m\u001b[43m)\u001b[49m\n",
      "File \u001b[1;32mc:\\users\\harsh\\appdata\\local\\programs\\python\\python39\\lib\\site-packages\\kafka\\consumer\\group.py:1201\u001b[0m, in \u001b[0;36mKafkaConsumer.next_v2\u001b[1;34m(self)\u001b[0m\n\u001b[0;32m   1199\u001b[0m     \u001b[38;5;28mself\u001b[39m\u001b[38;5;241m.\u001b[39m_iterator \u001b[38;5;241m=\u001b[39m \u001b[38;5;28mself\u001b[39m\u001b[38;5;241m.\u001b[39m_message_generator_v2()\n\u001b[0;32m   1200\u001b[0m \u001b[38;5;28;01mtry\u001b[39;00m:\n\u001b[1;32m-> 1201\u001b[0m     \u001b[38;5;28;01mreturn\u001b[39;00m \u001b[38;5;28;43mnext\u001b[39;49m\u001b[43m(\u001b[49m\u001b[38;5;28;43mself\u001b[39;49m\u001b[38;5;241;43m.\u001b[39;49m\u001b[43m_iterator\u001b[49m\u001b[43m)\u001b[49m\n\u001b[0;32m   1202\u001b[0m \u001b[38;5;28;01mexcept\u001b[39;00m \u001b[38;5;167;01mStopIteration\u001b[39;00m:\n\u001b[0;32m   1203\u001b[0m     \u001b[38;5;28mself\u001b[39m\u001b[38;5;241m.\u001b[39m_iterator \u001b[38;5;241m=\u001b[39m \u001b[38;5;28;01mNone\u001b[39;00m\n",
      "File \u001b[1;32mc:\\users\\harsh\\appdata\\local\\programs\\python\\python39\\lib\\site-packages\\kafka\\consumer\\group.py:1116\u001b[0m, in \u001b[0;36mKafkaConsumer._message_generator_v2\u001b[1;34m(self)\u001b[0m\n\u001b[0;32m   1114\u001b[0m \u001b[38;5;28;01mdef\u001b[39;00m \u001b[38;5;21m_message_generator_v2\u001b[39m(\u001b[38;5;28mself\u001b[39m):\n\u001b[0;32m   1115\u001b[0m     timeout_ms \u001b[38;5;241m=\u001b[39m \u001b[38;5;241m1000\u001b[39m \u001b[38;5;241m*\u001b[39m (\u001b[38;5;28mself\u001b[39m\u001b[38;5;241m.\u001b[39m_consumer_timeout \u001b[38;5;241m-\u001b[39m time\u001b[38;5;241m.\u001b[39mtime())\n\u001b[1;32m-> 1116\u001b[0m     record_map \u001b[38;5;241m=\u001b[39m \u001b[38;5;28;43mself\u001b[39;49m\u001b[38;5;241;43m.\u001b[39;49m\u001b[43mpoll\u001b[49m\u001b[43m(\u001b[49m\u001b[43mtimeout_ms\u001b[49m\u001b[38;5;241;43m=\u001b[39;49m\u001b[43mtimeout_ms\u001b[49m\u001b[43m,\u001b[49m\u001b[43m \u001b[49m\u001b[43mupdate_offsets\u001b[49m\u001b[38;5;241;43m=\u001b[39;49m\u001b[38;5;28;43;01mFalse\u001b[39;49;00m\u001b[43m)\u001b[49m\n\u001b[0;32m   1117\u001b[0m     \u001b[38;5;28;01mfor\u001b[39;00m tp, records \u001b[38;5;129;01min\u001b[39;00m six\u001b[38;5;241m.\u001b[39miteritems(record_map):\n\u001b[0;32m   1118\u001b[0m         \u001b[38;5;66;03m# Generators are stateful, and it is possible that the tp / records\u001b[39;00m\n\u001b[0;32m   1119\u001b[0m         \u001b[38;5;66;03m# here may become stale during iteration -- i.e., we seek to a\u001b[39;00m\n\u001b[0;32m   1120\u001b[0m         \u001b[38;5;66;03m# different offset, pause consumption, or lose assignment.\u001b[39;00m\n\u001b[0;32m   1121\u001b[0m         \u001b[38;5;28;01mfor\u001b[39;00m record \u001b[38;5;129;01min\u001b[39;00m records:\n\u001b[0;32m   1122\u001b[0m             \u001b[38;5;66;03m# is_fetchable(tp) should handle assignment changes and offset\u001b[39;00m\n\u001b[0;32m   1123\u001b[0m             \u001b[38;5;66;03m# resets; for all other changes (e.g., seeks) we'll rely on the\u001b[39;00m\n\u001b[0;32m   1124\u001b[0m             \u001b[38;5;66;03m# outer function destroying the existing iterator/generator\u001b[39;00m\n\u001b[0;32m   1125\u001b[0m             \u001b[38;5;66;03m# via self._iterator = None\u001b[39;00m\n",
      "File \u001b[1;32mc:\\users\\harsh\\appdata\\local\\programs\\python\\python39\\lib\\site-packages\\kafka\\consumer\\group.py:655\u001b[0m, in \u001b[0;36mKafkaConsumer.poll\u001b[1;34m(self, timeout_ms, max_records, update_offsets)\u001b[0m\n\u001b[0;32m    653\u001b[0m remaining \u001b[38;5;241m=\u001b[39m timeout_ms\n\u001b[0;32m    654\u001b[0m \u001b[38;5;28;01mwhile\u001b[39;00m \u001b[38;5;28;01mTrue\u001b[39;00m:\n\u001b[1;32m--> 655\u001b[0m     records \u001b[38;5;241m=\u001b[39m \u001b[38;5;28;43mself\u001b[39;49m\u001b[38;5;241;43m.\u001b[39;49m\u001b[43m_poll_once\u001b[49m\u001b[43m(\u001b[49m\u001b[43mremaining\u001b[49m\u001b[43m,\u001b[49m\u001b[43m \u001b[49m\u001b[43mmax_records\u001b[49m\u001b[43m,\u001b[49m\u001b[43m \u001b[49m\u001b[43mupdate_offsets\u001b[49m\u001b[38;5;241;43m=\u001b[39;49m\u001b[43mupdate_offsets\u001b[49m\u001b[43m)\u001b[49m\n\u001b[0;32m    656\u001b[0m     \u001b[38;5;28;01mif\u001b[39;00m records:\n\u001b[0;32m    657\u001b[0m         \u001b[38;5;28;01mreturn\u001b[39;00m records\n",
      "File \u001b[1;32mc:\\users\\harsh\\appdata\\local\\programs\\python\\python39\\lib\\site-packages\\kafka\\consumer\\group.py:708\u001b[0m, in \u001b[0;36mKafkaConsumer._poll_once\u001b[1;34m(self, timeout_ms, max_records, update_offsets)\u001b[0m\n\u001b[0;32m    705\u001b[0m \u001b[38;5;28;01mif\u001b[39;00m \u001b[38;5;28mself\u001b[39m\u001b[38;5;241m.\u001b[39m_coordinator\u001b[38;5;241m.\u001b[39mneed_rejoin():\n\u001b[0;32m    706\u001b[0m     \u001b[38;5;28;01mreturn\u001b[39;00m {}\n\u001b[1;32m--> 708\u001b[0m records, _ \u001b[38;5;241m=\u001b[39m \u001b[38;5;28;43mself\u001b[39;49m\u001b[38;5;241;43m.\u001b[39;49m\u001b[43m_fetcher\u001b[49m\u001b[38;5;241;43m.\u001b[39;49m\u001b[43mfetched_records\u001b[49m\u001b[43m(\u001b[49m\u001b[43mmax_records\u001b[49m\u001b[43m,\u001b[49m\u001b[43m \u001b[49m\u001b[43mupdate_offsets\u001b[49m\u001b[38;5;241;43m=\u001b[39;49m\u001b[43mupdate_offsets\u001b[49m\u001b[43m)\u001b[49m\n\u001b[0;32m    709\u001b[0m \u001b[38;5;28;01mreturn\u001b[39;00m records\n",
      "File \u001b[1;32mc:\\users\\harsh\\appdata\\local\\programs\\python\\python39\\lib\\site-packages\\kafka\\consumer\\fetcher.py:344\u001b[0m, in \u001b[0;36mFetcher.fetched_records\u001b[1;34m(self, max_records, update_offsets)\u001b[0m\n\u001b[0;32m    342\u001b[0m         \u001b[38;5;28;01mbreak\u001b[39;00m\n\u001b[0;32m    343\u001b[0m     completion \u001b[38;5;241m=\u001b[39m \u001b[38;5;28mself\u001b[39m\u001b[38;5;241m.\u001b[39m_completed_fetches\u001b[38;5;241m.\u001b[39mpopleft()\n\u001b[1;32m--> 344\u001b[0m     \u001b[38;5;28mself\u001b[39m\u001b[38;5;241m.\u001b[39m_next_partition_records \u001b[38;5;241m=\u001b[39m \u001b[38;5;28;43mself\u001b[39;49m\u001b[38;5;241;43m.\u001b[39;49m\u001b[43m_parse_fetched_data\u001b[49m\u001b[43m(\u001b[49m\u001b[43mcompletion\u001b[49m\u001b[43m)\u001b[49m\n\u001b[0;32m    345\u001b[0m \u001b[38;5;28;01melse\u001b[39;00m:\n\u001b[0;32m    346\u001b[0m     records_remaining \u001b[38;5;241m-\u001b[39m\u001b[38;5;241m=\u001b[39m \u001b[38;5;28mself\u001b[39m\u001b[38;5;241m.\u001b[39m_append(drained,\n\u001b[0;32m    347\u001b[0m                                       \u001b[38;5;28mself\u001b[39m\u001b[38;5;241m.\u001b[39m_next_partition_records,\n\u001b[0;32m    348\u001b[0m                                       records_remaining,\n\u001b[0;32m    349\u001b[0m                                       update_offsets)\n",
      "File \u001b[1;32mc:\\users\\harsh\\appdata\\local\\programs\\python\\python39\\lib\\site-packages\\kafka\\consumer\\fetcher.py:818\u001b[0m, in \u001b[0;36mFetcher._parse_fetched_data\u001b[1;34m(self, completed_fetch)\u001b[0m\n\u001b[0;32m    814\u001b[0m \u001b[38;5;28;01mif\u001b[39;00m records\u001b[38;5;241m.\u001b[39mhas_next():\n\u001b[0;32m    815\u001b[0m     log\u001b[38;5;241m.\u001b[39mdebug(\u001b[38;5;124m\"\u001b[39m\u001b[38;5;124mAdding fetched record for partition \u001b[39m\u001b[38;5;132;01m%s\u001b[39;00m\u001b[38;5;124m with\u001b[39m\u001b[38;5;124m\"\u001b[39m\n\u001b[0;32m    816\u001b[0m               \u001b[38;5;124m\"\u001b[39m\u001b[38;5;124m offset \u001b[39m\u001b[38;5;132;01m%d\u001b[39;00m\u001b[38;5;124m to buffered record list\u001b[39m\u001b[38;5;124m\"\u001b[39m, tp,\n\u001b[0;32m    817\u001b[0m               position)\n\u001b[1;32m--> 818\u001b[0m     unpacked \u001b[38;5;241m=\u001b[39m \u001b[38;5;28;43mlist\u001b[39;49m\u001b[43m(\u001b[49m\u001b[38;5;28;43mself\u001b[39;49m\u001b[38;5;241;43m.\u001b[39;49m\u001b[43m_unpack_message_set\u001b[49m\u001b[43m(\u001b[49m\u001b[43mtp\u001b[49m\u001b[43m,\u001b[49m\u001b[43m \u001b[49m\u001b[43mrecords\u001b[49m\u001b[43m)\u001b[49m\u001b[43m)\u001b[49m\n\u001b[0;32m    819\u001b[0m     parsed_records \u001b[38;5;241m=\u001b[39m \u001b[38;5;28mself\u001b[39m\u001b[38;5;241m.\u001b[39mPartitionRecords(fetch_offset, tp, unpacked)\n\u001b[0;32m    820\u001b[0m     last_offset \u001b[38;5;241m=\u001b[39m unpacked[\u001b[38;5;241m-\u001b[39m\u001b[38;5;241m1\u001b[39m]\u001b[38;5;241m.\u001b[39moffset\n",
      "File \u001b[1;32mc:\\users\\harsh\\appdata\\local\\programs\\python\\python39\\lib\\site-packages\\kafka\\consumer\\fetcher.py:473\u001b[0m, in \u001b[0;36mFetcher._unpack_message_set\u001b[1;34m(self, tp, records)\u001b[0m\n\u001b[0;32m    469\u001b[0m value_size \u001b[38;5;241m=\u001b[39m \u001b[38;5;28mlen\u001b[39m(record\u001b[38;5;241m.\u001b[39mvalue) \u001b[38;5;28;01mif\u001b[39;00m record\u001b[38;5;241m.\u001b[39mvalue \u001b[38;5;129;01mis\u001b[39;00m \u001b[38;5;129;01mnot\u001b[39;00m \u001b[38;5;28;01mNone\u001b[39;00m \u001b[38;5;28;01melse\u001b[39;00m \u001b[38;5;241m-\u001b[39m\u001b[38;5;241m1\u001b[39m\n\u001b[0;32m    470\u001b[0m key \u001b[38;5;241m=\u001b[39m \u001b[38;5;28mself\u001b[39m\u001b[38;5;241m.\u001b[39m_deserialize(\n\u001b[0;32m    471\u001b[0m     \u001b[38;5;28mself\u001b[39m\u001b[38;5;241m.\u001b[39mconfig[\u001b[38;5;124m'\u001b[39m\u001b[38;5;124mkey_deserializer\u001b[39m\u001b[38;5;124m'\u001b[39m],\n\u001b[0;32m    472\u001b[0m     tp\u001b[38;5;241m.\u001b[39mtopic, record\u001b[38;5;241m.\u001b[39mkey)\n\u001b[1;32m--> 473\u001b[0m value \u001b[38;5;241m=\u001b[39m \u001b[38;5;28;43mself\u001b[39;49m\u001b[38;5;241;43m.\u001b[39;49m\u001b[43m_deserialize\u001b[49m\u001b[43m(\u001b[49m\n\u001b[0;32m    474\u001b[0m \u001b[43m    \u001b[49m\u001b[38;5;28;43mself\u001b[39;49m\u001b[38;5;241;43m.\u001b[39;49m\u001b[43mconfig\u001b[49m\u001b[43m[\u001b[49m\u001b[38;5;124;43m'\u001b[39;49m\u001b[38;5;124;43mvalue_deserializer\u001b[39;49m\u001b[38;5;124;43m'\u001b[39;49m\u001b[43m]\u001b[49m\u001b[43m,\u001b[49m\n\u001b[0;32m    475\u001b[0m \u001b[43m    \u001b[49m\u001b[43mtp\u001b[49m\u001b[38;5;241;43m.\u001b[39;49m\u001b[43mtopic\u001b[49m\u001b[43m,\u001b[49m\u001b[43m \u001b[49m\u001b[43mrecord\u001b[49m\u001b[38;5;241;43m.\u001b[39;49m\u001b[43mvalue\u001b[49m\u001b[43m)\u001b[49m\n\u001b[0;32m    476\u001b[0m headers \u001b[38;5;241m=\u001b[39m record\u001b[38;5;241m.\u001b[39mheaders\n\u001b[0;32m    477\u001b[0m header_size \u001b[38;5;241m=\u001b[39m \u001b[38;5;28msum\u001b[39m(\n\u001b[0;32m    478\u001b[0m     \u001b[38;5;28mlen\u001b[39m(h_key\u001b[38;5;241m.\u001b[39mencode(\u001b[38;5;124m\"\u001b[39m\u001b[38;5;124mutf-8\u001b[39m\u001b[38;5;124m\"\u001b[39m)) \u001b[38;5;241m+\u001b[39m (\u001b[38;5;28mlen\u001b[39m(h_val) \u001b[38;5;28;01mif\u001b[39;00m h_val \u001b[38;5;129;01mis\u001b[39;00m \u001b[38;5;129;01mnot\u001b[39;00m \u001b[38;5;28;01mNone\u001b[39;00m \u001b[38;5;28;01melse\u001b[39;00m \u001b[38;5;241m0\u001b[39m) \u001b[38;5;28;01mfor\u001b[39;00m h_key, h_val \u001b[38;5;129;01min\u001b[39;00m\n\u001b[0;32m    479\u001b[0m     headers) \u001b[38;5;28;01mif\u001b[39;00m headers \u001b[38;5;28;01melse\u001b[39;00m \u001b[38;5;241m-\u001b[39m\u001b[38;5;241m1\u001b[39m\n",
      "File \u001b[1;32mc:\\users\\harsh\\appdata\\local\\programs\\python\\python39\\lib\\site-packages\\kafka\\consumer\\fetcher.py:511\u001b[0m, in \u001b[0;36mFetcher._deserialize\u001b[1;34m(self, f, topic, bytes_)\u001b[0m\n\u001b[0;32m    509\u001b[0m \u001b[38;5;28;01mif\u001b[39;00m \u001b[38;5;28misinstance\u001b[39m(f, Deserializer):\n\u001b[0;32m    510\u001b[0m     \u001b[38;5;28;01mreturn\u001b[39;00m f\u001b[38;5;241m.\u001b[39mdeserialize(topic, bytes_)\n\u001b[1;32m--> 511\u001b[0m \u001b[38;5;28;01mreturn\u001b[39;00m \u001b[43mf\u001b[49m\u001b[43m(\u001b[49m\u001b[43mbytes_\u001b[49m\u001b[43m)\u001b[49m\n",
      "Input \u001b[1;32mIn [2]\u001b[0m, in \u001b[0;36m<lambda>\u001b[1;34m(x)\u001b[0m\n\u001b[0;32m      1\u001b[0m consumer \u001b[38;5;241m=\u001b[39m KafkaConsumer(\n\u001b[0;32m      2\u001b[0m         \u001b[38;5;124m'\u001b[39m\u001b[38;5;124mdemo_testing2\u001b[39m\u001b[38;5;124m'\u001b[39m,\n\u001b[0;32m      3\u001b[0m         bootstrap_servers\u001b[38;5;241m=\u001b[39m[\u001b[38;5;124m'\u001b[39m\u001b[38;5;124m18.191.110.113:9092\u001b[39m\u001b[38;5;124m'\u001b[39m],\n\u001b[1;32m----> 4\u001b[0m         value_deserializer\u001b[38;5;241m=\u001b[39m\u001b[38;5;28;01mlambda\u001b[39;00m x: \u001b[43mjson\u001b[49m\u001b[38;5;241;43m.\u001b[39;49m\u001b[43mloads\u001b[49m\u001b[43m(\u001b[49m\u001b[43mx\u001b[49m\u001b[38;5;241;43m.\u001b[39;49m\u001b[43mdecode\u001b[49m\u001b[43m(\u001b[49m\u001b[38;5;124;43m'\u001b[39;49m\u001b[38;5;124;43mutf-8\u001b[39;49m\u001b[38;5;124;43m'\u001b[39;49m\u001b[43m)\u001b[49m\u001b[43m)\u001b[49m\n\u001b[0;32m      5\u001b[0m )\n",
      "File \u001b[1;32mc:\\users\\harsh\\appdata\\local\\programs\\python\\python39\\lib\\json\\__init__.py:346\u001b[0m, in \u001b[0;36mloads\u001b[1;34m(s, cls, object_hook, parse_float, parse_int, parse_constant, object_pairs_hook, **kw)\u001b[0m\n\u001b[0;32m    341\u001b[0m     s \u001b[38;5;241m=\u001b[39m s\u001b[38;5;241m.\u001b[39mdecode(detect_encoding(s), \u001b[38;5;124m'\u001b[39m\u001b[38;5;124msurrogatepass\u001b[39m\u001b[38;5;124m'\u001b[39m)\n\u001b[0;32m    343\u001b[0m \u001b[38;5;28;01mif\u001b[39;00m (\u001b[38;5;28mcls\u001b[39m \u001b[38;5;129;01mis\u001b[39;00m \u001b[38;5;28;01mNone\u001b[39;00m \u001b[38;5;129;01mand\u001b[39;00m object_hook \u001b[38;5;129;01mis\u001b[39;00m \u001b[38;5;28;01mNone\u001b[39;00m \u001b[38;5;129;01mand\u001b[39;00m\n\u001b[0;32m    344\u001b[0m         parse_int \u001b[38;5;129;01mis\u001b[39;00m \u001b[38;5;28;01mNone\u001b[39;00m \u001b[38;5;129;01mand\u001b[39;00m parse_float \u001b[38;5;129;01mis\u001b[39;00m \u001b[38;5;28;01mNone\u001b[39;00m \u001b[38;5;129;01mand\u001b[39;00m\n\u001b[0;32m    345\u001b[0m         parse_constant \u001b[38;5;129;01mis\u001b[39;00m \u001b[38;5;28;01mNone\u001b[39;00m \u001b[38;5;129;01mand\u001b[39;00m object_pairs_hook \u001b[38;5;129;01mis\u001b[39;00m \u001b[38;5;28;01mNone\u001b[39;00m \u001b[38;5;129;01mand\u001b[39;00m \u001b[38;5;129;01mnot\u001b[39;00m kw):\n\u001b[1;32m--> 346\u001b[0m     \u001b[38;5;28;01mreturn\u001b[39;00m \u001b[43m_default_decoder\u001b[49m\u001b[38;5;241;43m.\u001b[39;49m\u001b[43mdecode\u001b[49m\u001b[43m(\u001b[49m\u001b[43ms\u001b[49m\u001b[43m)\u001b[49m\n\u001b[0;32m    347\u001b[0m \u001b[38;5;28;01mif\u001b[39;00m \u001b[38;5;28mcls\u001b[39m \u001b[38;5;129;01mis\u001b[39;00m \u001b[38;5;28;01mNone\u001b[39;00m:\n\u001b[0;32m    348\u001b[0m     \u001b[38;5;28mcls\u001b[39m \u001b[38;5;241m=\u001b[39m JSONDecoder\n",
      "File \u001b[1;32mc:\\users\\harsh\\appdata\\local\\programs\\python\\python39\\lib\\json\\decoder.py:337\u001b[0m, in \u001b[0;36mJSONDecoder.decode\u001b[1;34m(self, s, _w)\u001b[0m\n\u001b[0;32m    332\u001b[0m \u001b[38;5;28;01mdef\u001b[39;00m \u001b[38;5;21mdecode\u001b[39m(\u001b[38;5;28mself\u001b[39m, s, _w\u001b[38;5;241m=\u001b[39mWHITESPACE\u001b[38;5;241m.\u001b[39mmatch):\n\u001b[0;32m    333\u001b[0m     \u001b[38;5;124;03m\"\"\"Return the Python representation of ``s`` (a ``str`` instance\u001b[39;00m\n\u001b[0;32m    334\u001b[0m \u001b[38;5;124;03m    containing a JSON document).\u001b[39;00m\n\u001b[0;32m    335\u001b[0m \n\u001b[0;32m    336\u001b[0m \u001b[38;5;124;03m    \"\"\"\u001b[39;00m\n\u001b[1;32m--> 337\u001b[0m     obj, end \u001b[38;5;241m=\u001b[39m \u001b[38;5;28;43mself\u001b[39;49m\u001b[38;5;241;43m.\u001b[39;49m\u001b[43mraw_decode\u001b[49m\u001b[43m(\u001b[49m\u001b[43ms\u001b[49m\u001b[43m,\u001b[49m\u001b[43m \u001b[49m\u001b[43midx\u001b[49m\u001b[38;5;241;43m=\u001b[39;49m\u001b[43m_w\u001b[49m\u001b[43m(\u001b[49m\u001b[43ms\u001b[49m\u001b[43m,\u001b[49m\u001b[43m \u001b[49m\u001b[38;5;241;43m0\u001b[39;49m\u001b[43m)\u001b[49m\u001b[38;5;241;43m.\u001b[39;49m\u001b[43mend\u001b[49m\u001b[43m(\u001b[49m\u001b[43m)\u001b[49m\u001b[43m)\u001b[49m\n\u001b[0;32m    338\u001b[0m     end \u001b[38;5;241m=\u001b[39m _w(s, end)\u001b[38;5;241m.\u001b[39mend()\n\u001b[0;32m    339\u001b[0m     \u001b[38;5;28;01mif\u001b[39;00m end \u001b[38;5;241m!=\u001b[39m \u001b[38;5;28mlen\u001b[39m(s):\n",
      "File \u001b[1;32mc:\\users\\harsh\\appdata\\local\\programs\\python\\python39\\lib\\json\\decoder.py:355\u001b[0m, in \u001b[0;36mJSONDecoder.raw_decode\u001b[1;34m(self, s, idx)\u001b[0m\n\u001b[0;32m    353\u001b[0m     obj, end \u001b[38;5;241m=\u001b[39m \u001b[38;5;28mself\u001b[39m\u001b[38;5;241m.\u001b[39mscan_once(s, idx)\n\u001b[0;32m    354\u001b[0m \u001b[38;5;28;01mexcept\u001b[39;00m \u001b[38;5;167;01mStopIteration\u001b[39;00m \u001b[38;5;28;01mas\u001b[39;00m err:\n\u001b[1;32m--> 355\u001b[0m     \u001b[38;5;28;01mraise\u001b[39;00m JSONDecodeError(\u001b[38;5;124m\"\u001b[39m\u001b[38;5;124mExpecting value\u001b[39m\u001b[38;5;124m\"\u001b[39m, s, err\u001b[38;5;241m.\u001b[39mvalue) \u001b[38;5;28;01mfrom\u001b[39;00m \u001b[38;5;28mNone\u001b[39m\n\u001b[0;32m    356\u001b[0m \u001b[38;5;28;01mreturn\u001b[39;00m obj, end\n",
      "\u001b[1;31mJSONDecodeError\u001b[0m: Expecting value: line 1 column 1 (char 0)"
     ]
    }
   ],
   "source": [
    "df = pd.DataFrame()\n",
    "for message in consumer:\n",
    "    print(\"%s key=%s value=%s\" % (message.topic, message.key, message.value))\n"
   ]
  },
  {
   "cell_type": "code",
   "execution_count": null,
   "id": "00fdfff4",
   "metadata": {},
   "outputs": [],
   "source": []
  },
  {
   "cell_type": "code",
   "execution_count": null,
   "id": "277ab56a",
   "metadata": {},
   "outputs": [],
   "source": [
    "\"\"\"    for message in consumer:\n",
    "        try:\n",
    "            data = message.value\n",
    "            print(data)\"\"\""
   ]
  },
  {
   "cell_type": "code",
   "execution_count": null,
   "id": "387710b7",
   "metadata": {},
   "outputs": [],
   "source": [
    "consumer_df.head()"
   ]
  },
  {
   "cell_type": "code",
   "execution_count": null,
   "id": "9c8aad75",
   "metadata": {},
   "outputs": [],
   "source": []
  },
  {
   "cell_type": "code",
   "execution_count": 9,
   "id": "a8a53f8e",
   "metadata": {},
   "outputs": [
    {
     "name": "stdout",
     "output_type": "stream",
     "text": [
      "Collecting psycopg2-binary\n",
      "  Downloading psycopg2_binary-2.9.9-cp39-cp39-win_amd64.whl.metadata (4.6 kB)\n",
      "Downloading psycopg2_binary-2.9.9-cp39-cp39-win_amd64.whl (1.2 MB)\n",
      "   ---------------------------------------- 1.2/1.2 MB 12.4 MB/s eta 0:00:00\n",
      "Installing collected packages: psycopg2-binary\n",
      "Successfully installed psycopg2-binary-2.9.9\n",
      "Note: you may need to restart the kernel to use updated packages.\n"
     ]
    },
    {
     "name": "stderr",
     "output_type": "stream",
     "text": [
      "WARNING: Ignoring invalid distribution -illow (c:\\users\\harsh\\appdata\\local\\programs\\python\\python39\\lib\\site-packages)\n",
      "WARNING: Ignoring invalid distribution -illow (c:\\users\\harsh\\appdata\\local\\programs\\python\\python39\\lib\\site-packages)\n",
      "\n",
      "[notice] A new release of pip is available: 24.0 -> 24.1.2\n",
      "[notice] To update, run: python.exe -m pip install --upgrade pip\n"
     ]
    }
   ],
   "source": [
    "pip install psycopg2-binary\n"
   ]
  },
  {
   "cell_type": "code",
   "execution_count": 12,
   "id": "219595a6",
   "metadata": {},
   "outputs": [],
   "source": [
    "REDSHIFT_DBNAME = 'dev'\n",
    "REDSHIFT_USER = 'awsuser'\n",
    "REDSHIFT_PASSWORD = 'Harsh007'\n",
    "REDSHIFT_HOST = 'de-cluster-test-automate.cozj5ggvyxpd.us-east-2.redshift.amazonaws.com:5439/dev'\n",
    "REDSHIFT_PORT = '5439'\n",
    "REDSHIFT_TABLE = 'employees'"
   ]
  },
  {
   "cell_type": "code",
   "execution_count": 11,
   "id": "0bf5a87f",
   "metadata": {},
   "outputs": [
    {
     "ename": "NameError",
     "evalue": "name 'psycopg2' is not defined",
     "output_type": "error",
     "traceback": [
      "\u001b[1;31m---------------------------------------------------------------------------\u001b[0m",
      "\u001b[1;31mNameError\u001b[0m                                 Traceback (most recent call last)",
      "Input \u001b[1;32mIn [11]\u001b[0m, in \u001b[0;36m<module>\u001b[1;34m\u001b[0m\n\u001b[1;32m----> 1\u001b[0m conn \u001b[38;5;241m=\u001b[39m \u001b[43mpsycopg2\u001b[49m\u001b[38;5;241m.\u001b[39mconnect(\n\u001b[0;32m      2\u001b[0m     dbname\u001b[38;5;241m=\u001b[39mREDSHIFT_DBNAME,\n\u001b[0;32m      3\u001b[0m     user\u001b[38;5;241m=\u001b[39mREDSHIFT_USER,\n\u001b[0;32m      4\u001b[0m     password\u001b[38;5;241m=\u001b[39mREDSHIFT_PASSWORD,\n\u001b[0;32m      5\u001b[0m     host\u001b[38;5;241m=\u001b[39mREDSHIFT_HOST,\n\u001b[0;32m      6\u001b[0m     port\u001b[38;5;241m=\u001b[39mREDSHIFT_PORT\n\u001b[0;32m      7\u001b[0m )\n\u001b[0;32m      8\u001b[0m cursor \u001b[38;5;241m=\u001b[39m conn\u001b[38;5;241m.\u001b[39mcursor()\n\u001b[0;32m     10\u001b[0m \u001b[38;5;66;03m# SQL statement to create a table if it doesn't exist\u001b[39;00m\n",
      "\u001b[1;31mNameError\u001b[0m: name 'psycopg2' is not defined"
     ]
    }
   ],
   "source": [
    "from kafka import KafkaConsumer\n",
    "import json\n",
    "import psycopg2\n",
    "from psycopg2 import sql\n",
    "\n",
    "\n",
    "\n",
    "# Redshift configuration\n",
    "REDSHIFT_DBNAME = 'dev'\n",
    "REDSHIFT_USER = 'awsuser'\n",
    "REDSHIFT_PASSWORD = 'Harsh007'\n",
    "REDSHIFT_HOST = 'de-cluster-test-automate.cozj5ggvyxpd.us-east-2.redshift.amazonaws.com:5439/dev'\n",
    "REDSHIFT_PORT = '5439'\n",
    "REDSHIFT_TABLE = 'employees'  # Table name\n",
    "\n",
    "# Establish connection to Redshift\n",
    "conn = psycopg2.connect(\n",
    "    dbname=REDSHIFT_DBNAME,\n",
    "    user=REDSHIFT_USER,\n",
    "    password=REDSHIFT_PASSWORD,\n",
    "    host=REDSHIFT_HOST,\n",
    "    port=REDSHIFT_PORT\n",
    ")\n",
    "cursor = conn.cursor()\n",
    "\n",
    "# SQL statement to create the employees table if it doesn't exist\n",
    "create_table_query = \"\"\"\n",
    "CREATE TABLE IF NOT EXISTS employees (\n",
    "    id INT IDENTITY(1,1) PRIMARY KEY,\n",
    "    name NVARCHAR(255),\n",
    "    position NVARCHAR(255),\n",
    "    salary DECIMAL(10, 2),\n",
    "    hire_date DATE,\n",
    "    department NVARCHAR(255),\n",
    "    email NVARCHAR(255),\n",
    "    phone_number NVARCHAR(20),\n",
    "    address NVARCHAR(255)\n",
    ");\n",
    "\"\"\"\n",
    "\n",
    "# Execute the create table query\n",
    "cursor.execute(create_table_query)\n",
    "conn.commit()\n",
    "\n",
    "# SQL insert statement\n",
    "insert_query = \"\"\"\n",
    "    INSERT INTO employees (name, position, salary, hire_date, department, email, phone_number, address)\n",
    "    VALUES (%s, %s, %s, %s, %s, %s, %s, %s)\n",
    "\"\"\"\n",
    "\n",
    "# Create Kafka consumer\n",
    "consumer = KafkaConsumer(\n",
    "        'demo_testing2',\n",
    "        bootstrap_servers=['18.191.110.113:9092'],\n",
    "        value_deserializer=lambda x: json.loads(x.decode('utf-8'))\n",
    ")\n",
    "\n",
    "# Consume messages from Kafka and insert into Redshift\n",
    "for message in consumer:\n",
    "    data = message.value\n",
    "    # Assuming the data is a dictionary with keys matching the table columns\n",
    "    values = (\n",
    "        data['name'],\n",
    "        data['position'],\n",
    "        data['salary'],\n",
    "        data['hire_date'],\n",
    "        data['department'],\n",
    "        data['email'],\n",
    "        data['phone_number'],\n",
    "        data['address']\n",
    "    )\n",
    "    cursor.execute(insert_query, values)\n",
    "    conn.commit()\n",
    "\n",
    "# Close the connection\n",
    "cursor.close()\n",
    "conn.close()\n",
    "\n",
    "print(\"Table created and data inserted successfully into Redshift\")\n"
   ]
  },
  {
   "cell_type": "code",
   "execution_count": null,
   "id": "4e92b1dd",
   "metadata": {},
   "outputs": [],
   "source": []
  },
  {
   "cell_type": "code",
   "execution_count": null,
   "id": "d65df41d",
   "metadata": {},
   "outputs": [],
   "source": []
  },
  {
   "cell_type": "code",
   "execution_count": null,
   "id": "9e6fc337",
   "metadata": {},
   "outputs": [],
   "source": []
  },
  {
   "cell_type": "code",
   "execution_count": null,
   "id": "e820bd0a",
   "metadata": {},
   "outputs": [],
   "source": []
  },
  {
   "cell_type": "code",
   "execution_count": null,
   "id": "33215d5d",
   "metadata": {},
   "outputs": [],
   "source": []
  },
  {
   "cell_type": "code",
   "execution_count": null,
   "id": "524dfb85",
   "metadata": {},
   "outputs": [],
   "source": [
    "consumer = KafkaConsumer(\n",
    "        'demo_testing2',\n",
    "        bootstrap_servers=['18.191.110.113:9092'],\n",
    "        value_deserializer=lambda x: json.loads(x.decode('utf-8'))\n",
    ")"
   ]
  },
  {
   "cell_type": "code",
   "execution_count": null,
   "id": "6106e6b5",
   "metadata": {},
   "outputs": [],
   "source": []
  },
  {
   "cell_type": "code",
   "execution_count": null,
   "id": "60ec0d45",
   "metadata": {},
   "outputs": [],
   "source": []
  },
  {
   "cell_type": "code",
   "execution_count": null,
   "id": "a6bb8b98",
   "metadata": {},
   "outputs": [],
   "source": []
  },
  {
   "cell_type": "code",
   "execution_count": null,
   "id": "df2fa253",
   "metadata": {},
   "outputs": [],
   "source": []
  },
  {
   "cell_type": "code",
   "execution_count": null,
   "id": "e515cc2a",
   "metadata": {},
   "outputs": [],
   "source": []
  },
  {
   "cell_type": "code",
   "execution_count": null,
   "id": "a8a4a2fe",
   "metadata": {},
   "outputs": [],
   "source": []
  },
  {
   "cell_type": "code",
   "execution_count": null,
   "id": "bb53451b",
   "metadata": {},
   "outputs": [],
   "source": []
  },
  {
   "cell_type": "code",
   "execution_count": null,
   "id": "8c776bd8",
   "metadata": {},
   "outputs": [],
   "source": []
  },
  {
   "cell_type": "code",
   "execution_count": null,
   "id": "2027297a",
   "metadata": {},
   "outputs": [],
   "source": []
  }
 ],
 "metadata": {
  "kernelspec": {
   "display_name": "Python 3 (ipykernel)",
   "language": "python",
   "name": "python3"
  },
  "language_info": {
   "codemirror_mode": {
    "name": "ipython",
    "version": 3
   },
   "file_extension": ".py",
   "mimetype": "text/x-python",
   "name": "python",
   "nbconvert_exporter": "python",
   "pygments_lexer": "ipython3",
   "version": "3.9.4"
  }
 },
 "nbformat": 4,
 "nbformat_minor": 5
}
